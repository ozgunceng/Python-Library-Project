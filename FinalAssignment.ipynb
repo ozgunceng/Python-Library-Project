{
 "cells": [
  {
   "cell_type": "markdown",
   "metadata": {},
   "source": [
    "## Özgün Gizlenci Week 7 Final Summative Assessment "
   ]
  },
  {
   "cell_type": "markdown",
   "metadata": {},
   "source": [
    "I did include the necessary libraries before starting to the question then created the classes.\n",
    "I thought converting CSV into a list is an easy way to control the structure. When we reach list index, we are able to update the data without any difficulty"
   ]
  },
  {
   "cell_type": "code",
   "execution_count": 1,
   "metadata": {},
   "outputs": [
    {
     "data": {
      "text/plain": [
       "['ï»¿ID', 'First Name', 'Last Name', 'Gender', 'Email', 'CardNumber']"
      ]
     },
     "execution_count": 1,
     "metadata": {},
     "output_type": "execute_result"
    }
   ],
   "source": [
    "# Importing the libraries.\n",
    "\n",
    "import csv\n",
    "import json\n",
    "\n",
    "\n",
    "# I read the CSV files and put the data into the lists.\n",
    "\n",
    "with open('books.csv', newline = '') as bks:\n",
    "            reader2 = csv.reader(bks)\n",
    "            data2 = list(reader2)    \n",
    "            \n",
    "with open('members.csv', newline = '') as bks2:\n",
    "            reader = csv.reader(bks2)\n",
    "            data = list(reader)\n",
    "\n",
    "# Since we don't need the titles I have removed to read it easier. The titles have been added to dictionary while I'm creating.\n",
    "data2.pop(0)\n",
    "data.pop(0)"
   ]
  },
  {
   "cell_type": "code",
   "execution_count": 6,
   "metadata": {},
   "outputs": [],
   "source": [
    "# On the first question statement was writing that we need to create classes and each classes had to have scan() method\n",
    "# and that method had to return the ID of an instance respectively\n",
    "\n",
    "# Then I created a class named as Books. It has initial variables as all book data.\n",
    "\n",
    "class Books(object):\n",
    "    # data is storing all book information like title, id etc.\n",
    "    #Here data is just initial variable.\n",
    "    def __init__(self,data):\n",
    "        self._data = data\n",
    "\n",
    "    # and I created the scan method as a new function It takes self//initials sent bookName, data.\n",
    "    # When we send the book name to the scan It reads all the book data and when the written name match with the book data, it returns the \"Book ID\"  \n",
    "    def scan(self,bookName,data):\n",
    "        self._bookName = bookName\n",
    "        for i in range(0,len(data)):\n",
    "            if self._bookName == data[i][1]:\n",
    "                return data[i][0]\n",
    "            \n",
    "    "
   ]
  },
  {
   "cell_type": "code",
   "execution_count": 8,
   "metadata": {},
   "outputs": [],
   "source": [
    "#To use the Book class, initially I had to create an object and sent the data.\n",
    "Book_Data_Send=Books(data2)"
   ]
  },
  {
   "cell_type": "code",
   "execution_count": 9,
   "metadata": {},
   "outputs": [],
   "source": [
    "# For member class beside the thing I've done for the Book class, I have added another methods.\n",
    "# Scan works same as I have defined before.\n",
    "# Here initial data means member data and it includes all member name, surname, mail , id and card number.\n",
    "class Members(object):\n",
    "    def __init__(self,data):\n",
    "        self._data = data\n",
    "\n",
    "    def scan(self,cardNo,data):\n",
    "        self._cardNo = cardNo\n",
    "        for i in range(0,len(data)):\n",
    "            if self._cardNo == data[i][5]:\n",
    "                return data[i][0]\n",
    "    \n",
    "    \n",
    "    \n",
    "    # Scan Name function takes initials and return the member name\n",
    "    # We take the \"Member Card Number\" then return the member name and surname as a string\n",
    "    # If the \"Member Card Number\" equals to the fifth data indice, name and surname are returned as a unified string  \n",
    "    \n",
    "    def scanName(self,cardNo,data):\n",
    "        self._cardNo = cardNo\n",
    "        for i in range(0,len(data)):\n",
    "            if self._cardNo == data[i][5]:\n",
    "                return data[i][1] + \" \" + data[i][2]\n",
    "            \n",
    "  # For further usage of \"sendEmail\" function, I had to create a function which returns the e-mail of the member to send the notification.\n",
    "  # Again It takes the member data and entered card number. \n",
    "  # When Member Card No data and Entered Card No are equal, the function returns the mail of the user\n",
    "    def scanMail(self,cardNo,data):\n",
    "        self._cardNo = cardNo\n",
    "        for i in range(0,len(data)):\n",
    "            if self._cardNo == data[i][5]:\n",
    "                return data[i][4]\n",
    "          "
   ]
  },
  {
   "cell_type": "code",
   "execution_count": 10,
   "metadata": {},
   "outputs": [],
   "source": [
    "# To use the Member class, initially I had to create an object and sent the data.\n",
    "Member_Data_Send = Members(data)"
   ]
  },
  {
   "cell_type": "code",
   "execution_count": 11,
   "metadata": {},
   "outputs": [
    {
     "data": {
      "text/plain": [
       "['1', 'Adelaide', 'Cunningham', 'Female', 'a.cunningham@randatmail.com', '13']"
      ]
     },
     "execution_count": 11,
     "metadata": {},
     "output_type": "execute_result"
    }
   ],
   "source": [
    "# I wanted to check the member data to see If everything is well\n",
    "data[0]"
   ]
  },
  {
   "cell_type": "markdown",
   "metadata": {},
   "source": [
    "-"
   ]
  },
  {
   "cell_type": "markdown",
   "metadata": {},
   "source": [
    "\n",
    "\n",
    "Before storing the data into JSON I had to store the data into a dictionary and I wanted to do the operations over that new dictionary.\n",
    "So I created a dictionary named as \"new_Book_Loan\". new_Book_Loan includes the keys as Book ID, Book Name, Availability, Check, Loaned User, Last User, Status and Reserved To.\n",
    "\n",
    "Why I used that keys?\n",
    "\n",
    "To do the operations, first I need \"Book ID\" we can say it is the essential key to move. With Book ID I wanted to store the Book Name either.\n",
    "Next important keys are Avilability and Check. The Availability has 2 values: If the book is available to loan or reserve, we write \"Yes\" for the Availabiliy. If it is not available for the loan which means the book is already loaned or reserved we write \"No\" for the Availabiliy. Check stores binary values: 1 and 0 and It works same with Availabiliy. Working with 1 and 0 is better when we use if statements.\n",
    "\n",
    "When user loaned a book I wanted to store the user name in that dictionary either. So that I used \"Loaned User\" key and the \"Last User\" stores the member who loaned that book last.\n",
    "\n",
    "\"Status\" and \"Reserved To\" are for the book reservation part.\n",
    "If user reserved a book \"Status\" is writing \"Reserved\" and \"Reserved To\" stores that who stores that book.\n",
    "\n",
    "It doesn't write anything when we don't store any data. "
   ]
  },
  {
   "cell_type": "markdown",
   "metadata": {},
   "source": [
    "-"
   ]
  },
  {
   "cell_type": "code",
   "execution_count": 12,
   "metadata": {},
   "outputs": [],
   "source": [
    "\n",
    "# Created a new dictionary named as new_Book_Loan which store all book information.\n",
    "new_Book_Loan =dict()\n",
    "\n",
    "# On the first line I read the book informations into a list. So with nested for loop I stored the book informations into that new_Book_Loan dictionary.\n",
    "for i in range (0,len(data2)):\n",
    "    k=data2[i][0]\n",
    "    for a in range(len(data2)):\n",
    "        if (k == data2[a][0]):\n",
    "            new_Book_Loan[i]= { \"Book ID\":data2[i][0], \"Book Name\": data2[i][1],\"Availability\": \"Yes\", \"Check\": 0 ,\"Loaned User\": \" \", \"Last User\": \" \",\"Status\": \" \", \"Reserved To\": \" \" }\n"
   ]
  },
  {
   "cell_type": "code",
   "execution_count": 14,
   "metadata": {},
   "outputs": [
    {
     "data": {
      "text/plain": [
       "{'Book ID': '1',\n",
       " 'Book Name': 'Fundamentals of Wavelets',\n",
       " 'Availability': 'Yes',\n",
       " 'Check': 0,\n",
       " 'Loaned User': ' ',\n",
       " 'Last User': ' ',\n",
       " 'Status': ' ',\n",
       " 'Reserved To': ' '}"
      ]
     },
     "execution_count": 14,
     "metadata": {},
     "output_type": "execute_result"
    }
   ],
   "source": [
    "# The new dictionary has been checked here with first indice\n",
    "new_Book_Loan[0]"
   ]
  },
  {
   "cell_type": "markdown",
   "metadata": {},
   "source": [
    "## Q1 Member Borrow A Book"
   ]
  },
  {
   "cell_type": "markdown",
   "metadata": {},
   "source": [
    "  To do the question one I had to create 2 dictionaries named as \"Available Books\" and \"On Loan\". As you can predict from their name, Available Books is going to show the books that available and if the book status is not reserved. When user wants to loan any book, that dictionary will be shown. On Loan will be showing the loaned books. When user wants to return a book, that dictionary will appear before returning the book.\n",
    "\n",
    "Both dictionaries are a sub-dictionaries of new_Book_Loan dictionary.\n",
    "\n",
    "When do the changes, dictionaries always update itself with the functions that I've written below called \" AvailableBooks()\", \"BooksOnLoan()\" and NewBookLoan().\n",
    "\n",
    "After the update, I store the date into 3 different JSON files with the same functions I've mentioned above. \n",
    "\n",
    "Main function of the BorrowOperation class is the BorrowBook function.\n",
    "\n",
    "I get the user inputs as book name and card number and I send that data to Book and Member classes seperately. Then I get the Book ID, Member ID, Member Name.\n",
    "\n",
    "For loop is searching for the book id on book data which we get it from book class with scan method then I put the member name to the new_Book_Loan dictionary and update the availability to \"No\" , Check = 0.\n",
    "\n",
    "Lastly, When the operation is complete I update the dictionaries and save the date into JSON files with using BorrowOperations.AvailableBooks() and BorrowOperations.BooksOnLoan().\n",
    "\n",
    "\n"
   ]
  },
  {
   "cell_type": "code",
   "execution_count": 15,
   "metadata": {},
   "outputs": [],
   "source": [
    "# Created the dictionaries that I mentioned above here\n",
    "available_Books =dict()\n",
    "on_loan=dict()"
   ]
  },
  {
   "cell_type": "code",
   "execution_count": 24,
   "metadata": {},
   "outputs": [],
   "source": [
    "# Created a class named BorrowOperations to do all process inside.\n",
    "\n",
    "class BorrowOperations(object):\n",
    "    \n",
    "    # BooksOnLoan function checks the new_Book_Loan dictionary when we call that function.\n",
    "    # On call, It checks each line with the Availability key, and if it is \"No\" which means that book is loaned, then the function adds that line into on_loan dictionary.\n",
    "    # When we get the loaned books, we save the data into a JSON file.\n",
    "    # The loaned book date is stored into onloan.json file.\n",
    "    def BooksOnLoan():\n",
    "        for i in range (0,len(new_Book_Loan)):\n",
    "            if new_Book_Loan[i]['Availability'] == \"No\":\n",
    "                on_loan[i]=new_Book_Loan[i]\n",
    "         \n",
    "        # I save the file with that line as a json file and store the on_loan dictionary inside.\n",
    "        with open('onLoan.json', 'w') as l:\n",
    "            json.dump(on_loan, l)  \n",
    "    \n",
    "    # Same process above for the books on loan valid for the AvailableBooks function\n",
    "    #The only difference is: It checks each line with the Availability key, and if it is \"Yes\" which means that book is not loaned\n",
    "    def AvailableBooks():\n",
    "        for i in range (0,len(new_Book_Loan)):\n",
    "            if new_Book_Loan[i]['Availability'] == \"Yes\":\n",
    "                available_Books[i]=new_Book_Loan[i]\n",
    "                \n",
    "    # I save the file with that line as a json file and store the on_loan dictionary inside.\n",
    "        with open('available_Books.json', 'w') as l:\n",
    "            json.dump(available_Books, l)\n",
    "    \n",
    "    # NewBookLoan is written to save available books into new_Book_Loan json file. It uses the updated dictionary to store.\n",
    "    # That function is using by the other classes either as return and reserve operations.\n",
    "    \n",
    "    def NewBookLoan():\n",
    "        #Creating JSON database\n",
    "        with open('new_Book_Loan.json', 'w') as k:\n",
    "            json.dump(new_Book_Loan, k) \n",
    "    \n",
    "    # BorrowBook is the main function. All borrow operaions are process here. It takes the user input and send the data to the Book and Member classes.\n",
    "    # Also BorrowBook gets the member name and id to store.\n",
    "    \n",
    "    def BorrowBook():\n",
    "        \n",
    "        # Firstly, when we call that function we print the available books. The available books have been shown by checking the Availability key.\n",
    "        \n",
    "        #It looks crowded so I showed the first 10 books\n",
    "        # You can see all available books with uncommenting the code below\n",
    "        \n",
    "        #for i in range(0,len(new_Book_Loan)):    \n",
    "        for i in range(0,10):\n",
    "            \n",
    "            # If Availability in the new book loan dictionary Yes, It means the book is available.\n",
    "            if new_Book_Loan[i]['Availability'] == \"Yes\":\n",
    "                print(new_Book_Loan[i])\n",
    "                print(\"\\n\")\n",
    "\n",
    "        # We need the book name so that user enter the book name, we store it in borrow_BookName variable       \n",
    "        borrow_BookName = input(\"Please Write The Full Book Title Here\")\n",
    "        \n",
    "        # To get the book id, we sent that data to the scan function of Book class with book data and it returns the id.\n",
    "        borrow_BookID = Book_Data_Send.scan(borrow_BookName,data2)\n",
    "        \n",
    "        # We need the card no so user enter it, then we send the card number same as above with the member data.\n",
    "        borrow_MemberCardNo = input(\"Scan Your Card Number\")\n",
    "        \n",
    "        # To get the member id we sent the card number to the scan function to the Member class.\n",
    "        borrow_MemberID = Member_Data_Send.scan(borrow_MemberCardNo,data)\n",
    "        \n",
    "        # And we need member name to store in new book loan dictionary, so we send the the card number to the scanName function to the Member class to get the member's name.\n",
    "        borrow_MemberName = Member_Data_Send.scanName(borrow_MemberCardNo,data)\n",
    "\n",
    "        \n",
    "        # After we have got the all informations we need, we search for the Book ID we get. If that ID matches with our book data, we change Availability to \"No\" and Check to 1 \n",
    "        # which means that book has been loaned and we update the member name. \n",
    "        \n",
    "        for i in range (0,len(new_Book_Loan)):\n",
    "            if new_Book_Loan[i]['Book ID'] == borrow_BookID:           \n",
    "                new_Book_Loan[i]['Loaned User']=borrow_MemberName\n",
    "                new_Book_Loan[i]['Check']=1\n",
    "                new_Book_Loan[i]['Availability']= \"No\"\n",
    "\n",
    "        # When the process is completed we store the new book loan dictionary into the JSON file. \n",
    "        with open('new_Book_Loan.json', 'w') as k:\n",
    "            json.dump(new_Book_Loan, k) \n",
    "\n",
    "        # AvailableBooks and BooksOnLoan functions are called to update the dictionaries and save them into JSON files.\n",
    "        BorrowOperations.AvailableBooks()\n",
    "        BorrowOperations.BooksOnLoan()\n",
    "        \n",
    "        # If process complete we print the book name and the name of the member who loaned the book\n",
    "        return print(borrow_BookName+ \" Book Has Been Loaned For The \"+\" Member \"+ borrow_MemberName)\n",
    "\n",
    "\n",
    "\n",
    "            \n",
    "            \n",
    "    "
   ]
  },
  {
   "cell_type": "markdown",
   "metadata": {},
   "source": [
    "## Q2 Member Return A Book"
   ]
  },
  {
   "cell_type": "markdown",
   "metadata": {},
   "source": [
    "To return a book, we need to see the loaned books first. So I created another class named as ReturnOpereations with a simple function.\n",
    "The function called ReturnBook. It takes the input and send the data to the Member and Book classes to get the Member Name and Book ID.\n",
    "When the member returns a book, this time we do the opposite situation for the Availability & Check keys and write \"No\" and 0.\n",
    "Then we update the dictionaries to save the JSON files."
   ]
  },
  {
   "cell_type": "code",
   "execution_count": 27,
   "metadata": {},
   "outputs": [],
   "source": [
    "# I created the ReturnOperatarions class to do the return operations\n",
    "class ReturnOperatarions(object):\n",
    "    \n",
    "    # Created a simple function named ReturnBook.\n",
    "    def ReturnBook():\n",
    "        \n",
    "        # Firstly, I printed the books on loan with a basic for loop. User should see the books on loan.\n",
    "        print(\"----------------- Books On Loan -----------------\")\n",
    "        for i in on_loan:\n",
    "            print(on_loan[i])\n",
    "            print(\"\\n\")\n",
    "                \n",
    "        \n",
    "        # We get the book name which member wants to return\n",
    "        returnBookName=input(\"Please Enter The Book Name You Want To Return: \")\n",
    "        # and we get the member card no as usual.\n",
    "        memberCardNo= input(\"Please Enter Your Card Number\")\n",
    "        \n",
    "        # Sent the Card Number and Book Name to scan function to Book and Member classes to get the Member Name and Book ID.\n",
    "        return_MemberName = Member_Data_Send.scanName(memberCardNo,data)\n",
    "        return_BookID = Book_Data_Send.scan(returnBookName,data2)\n",
    "        \n",
    "        \n",
    "        # After we have got the all informations we need, we search for the Book ID we get. If that ID matches with our book data, we change Availability to \"Yes\" and Check to 0 \n",
    "        # which means that book is available for loan then we update the Loaned User to Null, Last User to last member name. \n",
    "        \n",
    "        for i in range (0,len(new_Book_Loan)):\n",
    "            if new_Book_Loan[i]['Book ID'] == return_BookID:           \n",
    "                new_Book_Loan[i]['Loaned User']=\"Null\"\n",
    "                # 1 means book is on loan\n",
    "                new_Book_Loan[i]['Check']=0\n",
    "                new_Book_Loan[i]['Availability']= \"Yes\"\n",
    "                new_Book_Loan[i]['Last User']= return_MemberName\n",
    "         \n",
    "        # AvailableBooks, NewBookLoan and BooksOnLoan functions are called to update the dictionaries and save them into JSON files.\n",
    "        BorrowOperations.AvailableBooks()\n",
    "        BorrowOperations.BooksOnLoan()\n",
    "        BorrowOperations.NewBookLoan()\n",
    "        \n",
    "        \n",
    "        # THIS SECTION IS IMPORTANT\n",
    "        \n",
    "        # When  member return a book, that means we need to inform the users waiting for that book. So that, I wrote a for loop which checks the waitlist dictionary.\n",
    "        for i in range(0,len(wait_list)):\n",
    "            # and if the book id in the waitlist match with the return book id we send email to the user.\n",
    "            if ( wait_list[0]['Book ID']== return_BookID ):\n",
    "                \n",
    "                # to do this we send that data to the Notification class which I wrote for question 5\n",
    "                SendEmail_To_WaitingUser = Notification(\" The Book is ready \",returnBookName,wait_list[1]['User ID'])\n",
    "                \n",
    "            \n",
    "        # lastly I printed a thanks to the member to return the book on time with the member & book name\n",
    "        print(\"Thank You \"+return_MemberName+\" To Return\"+returnBookName+ \" On Time\")\n",
    "        \n",
    "\n"
   ]
  },
  {
   "cell_type": "markdown",
   "metadata": {},
   "source": [
    "## Q3 Member Apply Membership"
   ]
  },
  {
   "cell_type": "markdown",
   "metadata": {},
   "source": [
    "The ApplyMembership class consist of 2 functions. SaveMember gets the necessary information and add the user details into member data.\n",
    "MemberDataSave is for recording the data into a JSON file."
   ]
  },
  {
   "cell_type": "code",
   "execution_count": 30,
   "metadata": {},
   "outputs": [],
   "source": [
    "# Created a new class called ApplyMembership.\n",
    "class ApplyMembership(object):\n",
    "    \n",
    "    def SaveMember():\n",
    "        \n",
    "        # First we get the member name, surname, mail and gender.\n",
    "        new_MemberName= input(\"Please Enter Your Name :\")\n",
    "        new_MemberSurname=input(\"Please Enter Your Surname :\")\n",
    "        new_MemberMail=input(\"Please Enter Your Mail :\")\n",
    "        new_MemberGender=input(\"Please Enter Your Gender :\")\n",
    "        #dataID keeps the next indice number.\n",
    "        dataID=str(len(data)+1)\n",
    "        #to create a new card number I sum the last number with 1.\n",
    "        newCardNo = str(int(data[-1][5])+1)      \n",
    "        \n",
    "        #then updated the list with the informations that I have.\n",
    "        data.append([dataID,new_MemberName,new_MemberSurname,new_MemberGender,new_MemberMail,newCardNo])\n",
    "        \n",
    "        #when the process is done, we inform user with a print.\n",
    "        print(\"Register completed for \"+ new_MemberName +\" \"+ new_MemberSurname +\" Welcome To Keele University Library\" )\n",
    "        \n",
    "        #and we call the MemberDataSave function inside of that class to save the new member list into JSON file.\n",
    "        ApplyMembership.MemberDataSave()\n",
    "       \n",
    "    #This function saves the new member list into JSON file.\n",
    "    def MemberDataSave():\n",
    "        with open('members.json', 'w') as k:\n",
    "            json.dump(data, k) \n",
    "        \n",
    "        "
   ]
  },
  {
   "cell_type": "markdown",
   "metadata": {},
   "source": [
    "## Q4 Member Reserve A Book\n"
   ]
  },
  {
   "cell_type": "markdown",
   "metadata": {},
   "source": [
    "Reservation of a book process is similar to the borrow and return operation. First we show the available books for the reservation. Then we get the book name and card number from the member.\n",
    "Then I changed the Status key to Reserved and save it into a dictionary.\n"
   ]
  },
  {
   "cell_type": "code",
   "execution_count": 31,
   "metadata": {},
   "outputs": [],
   "source": [
    "#I created a dictionary named reserved_Books to store the reserved books.\n",
    "reserved_Books=dict()\n"
   ]
  },
  {
   "cell_type": "code",
   "execution_count": 35,
   "metadata": {},
   "outputs": [],
   "source": [
    "# ReserveOperations class is created with 2 functions defined inside called as SaveReservedBooks and ReserveBook\n",
    "class ReserveOperations(object):\n",
    "    \n",
    "    def ReserveBook():\n",
    "        \n",
    "        # We show to the member the available and not reserved books.\n",
    "        # I used for loop for that and wrote an if statement to check the Availability and Status keys.\n",
    "        for i in range(0,len(new_Book_Loan)):\n",
    "            if new_Book_Loan[i]['Availability'] == \"Yes\" and new_Book_Loan[i]['Status'] != \"Reserved\":\n",
    "                print(new_Book_Loan[i])\n",
    "                print(\"\\n\")\n",
    "        \n",
    "        # We get the book name from the user\n",
    "        reserve_BookName = input(\"Please Write The Full Book Title Here\")   \n",
    "        # Sent the book name to the scan function of Book class to get the Book ID.\n",
    "        reserve_BookID = Book_Data_Send.scan(reserve_BookName,data2)\n",
    "        # We get the card number from the user.\n",
    "        reserve_MemberCardNo = input(\"Scan Your Card Number\")\n",
    "        #Sent the card number to the scan function to the Member class.\n",
    "        reserve_MemberID = Member_Data_Send.scan(reserve_MemberCardNo,data)\n",
    "        #From the card number we get the user name either from the scanName function of Member class.\n",
    "        reserve_MemberName = Member_Data_Send.scanName(reserve_MemberCardNo,data)\n",
    "        \n",
    "        #Status key should be Reserved and Availability should be \"No\". So I used a for loop to search the new_Book_Loan to find the book id.\n",
    "        #with an if statement I did check if that book id returns from Book class and dictionary book id are same or not.\n",
    "        for i in range (0,len(new_Book_Loan)):\n",
    "            if new_Book_Loan[i]['Book ID'] == reserve_BookID:           \n",
    "                new_Book_Loan[i]['Reserved To']=reserve_MemberName\n",
    "                new_Book_Loan[i]['Check']=1\n",
    "                new_Book_Loan[i]['Availability']= \"No\"\n",
    "                new_Book_Loan[i]['Status']= \"Reserved\"\n",
    "                \n",
    "        #when the process is finished I call the SaveReservedBooks function to save the reserved books into a json file.\n",
    "        ReserveOperations.SaveReservedBooks()   \n",
    "        \n",
    "        print(\"The book reserved to  \"+ reserve_MemberName )\n",
    "        \n",
    "        \n",
    "    #I wrote SaveReservedBooks function to store the reserved books into a json file.    \n",
    "    def SaveReservedBooks():\n",
    "        # with a for loop I check new_book_loan dictionary line by line and if Status key is Reserved, that line directly saves into new dictionary called reserved_Books. \n",
    "        for i in range (0,len(new_Book_Loan)):\n",
    "            if new_Book_Loan[i]['Status'] == \"Reserved\":\n",
    "                reserved_Books[i]=new_Book_Loan[i]                 \n",
    "                \n",
    "        #Creating JSON database for reserved_Books\n",
    "        with open('reserved_Books.json', 'w') as k:\n",
    "            json.dump(reserved_Books, k)   \n",
    "        \n",
    "        \n",
    "        "
   ]
  },
  {
   "cell_type": "markdown",
   "metadata": {},
   "source": [
    "## Q5 Member Notification System\n"
   ]
  },
  {
   "cell_type": "markdown",
   "metadata": {},
   "source": [
    "Member Notification System consists of 2 seperate classes named as EmailNotification and Notification.\n",
    "\n",
    "With EmailNotification member joins a waitlist for a notification. The class that I mentioned contains WaitList function which gets the Member Card Number and the Book Number that user wants to be notificated.\n",
    "\n",
    "Notification class is implementable for 3 types of notification as wanted on the preamble. The message passes as an argument and we send the user id. With a for loop we find member mail from the member id."
   ]
  },
  {
   "cell_type": "code",
   "execution_count": 36,
   "metadata": {},
   "outputs": [],
   "source": [
    "# I create a new dictionary to store the members who want to get notificated.\n",
    "wait_list=dict()"
   ]
  },
  {
   "cell_type": "code",
   "execution_count": 42,
   "metadata": {},
   "outputs": [],
   "source": [
    "#Created EmailNotification class with WaitList function\n",
    "\n",
    "class EmailNotification():\n",
    "    def WaitList():\n",
    "        #first I print the waitlist with a for loop.\n",
    "        for i in on_loan:\n",
    "            print(on_loan[i])\n",
    "        \n",
    "       \n",
    "        # We get the member card no and book name from user\n",
    "        card = input(\"Please Enter Your Card ID\")\n",
    "        bookName = input(\"Please Enter The Book Title\")\n",
    "        \n",
    "        #sent the card and bookName to the Member and Book classes to get the member name, book id, member mail and member id.\n",
    "        wait_MemberName = Member_Data_Send.scanName(card,data)\n",
    "        wait_BookID = Book_Data_Send.scan(bookName,data2)\n",
    "        wait_MemberMail = Member_Data_Send.scanMail(card,data)\n",
    "        wait_MemberID = Member_Data_Send.scan(card,data)\n",
    "        \n",
    "        # length of the wait_list dictionary will be our last indice always so we save the length into a variable named k\n",
    "        k=len(wait_list)\n",
    "        # we save the data to wait_list dictionary with indice of k\n",
    "        wait_list[k]= {\"Book ID\":wait_BookID, \"Name\":wait_MemberName , \"Book\":bookName , \"Mail\":wait_MemberMail, \"User ID\":wait_MemberID}\n",
    "            \n",
    "        #lastly we inform the user with a print \n",
    "        print(\"You'll be inform when the book is ready. We will send an e-mail to \" + wait_MemberMail)\n",
    "        \n",
    "        "
   ]
  },
  {
   "cell_type": "markdown",
   "metadata": {},
   "source": [
    "Implementable for the 3 notification system. Which passes messages as an argument. Initial arguments are message, user id and book name.\n",
    "sendEmail first search member data and find the member mail. For instance, if Book ID inside of \"wait_list\" match with returned book id, email will be sent to the user who's waiting for the returned book."
   ]
  },
  {
   "cell_type": "code",
   "execution_count": 43,
   "metadata": {},
   "outputs": [],
   "source": [
    "class Notification(object):\n",
    "    # initial variables are defined.\n",
    "    def __init__(self,message,bookName,ID):\n",
    "        self._message = message\n",
    "        self._ID = ID\n",
    "        self._bookName = bookName\n",
    "    #sendEmail function takes the initial variables and we call the function when we need.\n",
    "    #with initial id we search for the member mail to send the mail.\n",
    "    def sendEmail(self):\n",
    "        for i in range(len(data)):\n",
    "            if self._ID ==data[i][0]:\n",
    "                mail = data[i][4]\n",
    "        # Finally, we send the mail here with the message passed as an argument.        \n",
    "        print(\"E-mail sent to... \" + mail + self._message+self._bookName)\n",
    "        "
   ]
  },
  {
   "cell_type": "markdown",
   "metadata": {},
   "source": [
    "## User Interface and Tests"
   ]
  },
  {
   "cell_type": "markdown",
   "metadata": {},
   "source": [
    "I wanted to create a user interface and it works with user choice.\n",
    "\n",
    "Choices appear on screen and user enter the number to go to that function.\n",
    "\n",
    "I defined that interface into a function to test each question seperately.\n"
   ]
  },
  {
   "cell_type": "code",
   "execution_count": 44,
   "metadata": {},
   "outputs": [],
   "source": [
    "#User interface function. First It prints the choices then takes the input.\n",
    "def UserInterface():\n",
    "    print(\"-------------------------------------\")\n",
    "    print(\"Welcome To The Keele Library System\\n\")\n",
    "    print(\"Please write the number of the choice below\\n\")\n",
    "    print(\"1 - Borrow Book \\n\")\n",
    "    print(\"2 - Return Book \\n\")\n",
    "    print(\"3 - Reserve Book \\n\")\n",
    "    print(\"4 - Apply For Membership Card \\n\")\n",
    "    print(\"5 - Join E-Mail Notification \\n\")\n",
    "    print(\"6 - Exit \\n\")\n",
    "    \n",
    "    # We keep the user choice as a variable named userChoice\n",
    "    userChoice=int(input(\"Your Choice\"))\n",
    "    \n",
    "    #It works like switch case, the only difference is \"if\" statements.\n",
    "    if(userChoice == 1):\n",
    "        print(\"Borrow Book\")\n",
    "        BorrowOperations.BorrowBook()\n",
    "\n",
    "    elif(userChoice == 2):\n",
    "        print(\"Return Book\")\n",
    "        ReturnOperatarions.ReturnBook()\n",
    "        \n",
    "    elif(userChoice == 3):\n",
    "        print(\"Reserve Book\")  \n",
    "        ReserveOperations.ReserveBook()   \n",
    "    elif(userChoice == 4):\n",
    "        print(\"Apply Membership\")    \n",
    "        ApplyMembership.SaveMember()\n",
    "    elif(userChoice == 5):\n",
    "        print(\"E-Mail List\")\n",
    "        EmailNotification.WaitList()\n",
    "    elif(userChoice == 6):\n",
    "        print(\"Exit\")       \n",
    "        \n",
    "    else:\n",
    "        print(\"Error Occurred\")"
   ]
  },
  {
   "cell_type": "code",
   "execution_count": null,
   "metadata": {},
   "outputs": [],
   "source": []
  },
  {
   "cell_type": "markdown",
   "metadata": {},
   "source": [
    "## 1-Book Loan Test"
   ]
  },
  {
   "cell_type": "markdown",
   "metadata": {},
   "source": [
    "I did 4 test for the book loan here. To prevent long unnecessary result printings, I gave a range 0 to 10 in for loop."
   ]
  },
  {
   "cell_type": "code",
   "execution_count": 46,
   "metadata": {},
   "outputs": [
    {
     "name": "stdout",
     "output_type": "stream",
     "text": [
      "-------------------------------------\n",
      "Welcome To The Keele Library System\n",
      "\n",
      "Please write the number of the choice below\n",
      "\n",
      "1 - Borrow Book \n",
      "\n",
      "2 - Return Book \n",
      "\n",
      "3 - Reserve Book \n",
      "\n",
      "4 - Apply For Membership Card \n",
      "\n",
      "5 - Join E-Mail Notification \n",
      "\n",
      "6 - Exit \n",
      "\n"
     ]
    },
    {
     "name": "stdin",
     "output_type": "stream",
     "text": [
      "Your Choice 1\n"
     ]
    },
    {
     "name": "stdout",
     "output_type": "stream",
     "text": [
      "Borrow Book\n",
      "{'Book ID': '2', 'Book Name': 'Data Smart', 'Availability': 'Yes', 'Check': 0, 'Loaned User': ' ', 'Last User': ' ', 'Status': ' ', 'Reserved To': ' '}\n",
      "\n",
      "\n",
      "{'Book ID': '3', 'Book Name': 'God Created the Integers', 'Availability': 'Yes', 'Check': 0, 'Loaned User': ' ', 'Last User': ' ', 'Status': ' ', 'Reserved To': ' '}\n",
      "\n",
      "\n",
      "{'Book ID': '4', 'Book Name': 'Superfreakonomics', 'Availability': 'Yes', 'Check': 0, 'Loaned User': ' ', 'Last User': ' ', 'Status': ' ', 'Reserved To': ' '}\n",
      "\n",
      "\n",
      "{'Book ID': '5', 'Book Name': 'Orientalism', 'Availability': 'Yes', 'Check': 0, 'Loaned User': ' ', 'Last User': ' ', 'Status': ' ', 'Reserved To': ' '}\n",
      "\n",
      "\n",
      "{'Book ID': '6', 'Book Name': 'Nature of Statistical Learning Theory, The', 'Availability': 'Yes', 'Check': 0, 'Loaned User': ' ', 'Last User': ' ', 'Status': ' ', 'Reserved To': ' '}\n",
      "\n",
      "\n",
      "{'Book ID': '7', 'Book Name': 'Integration of the Indian States', 'Availability': 'Yes', 'Check': 0, 'Loaned User': ' ', 'Last User': ' ', 'Status': ' ', 'Reserved To': ' '}\n",
      "\n",
      "\n",
      "{'Book ID': '8', 'Book Name': \"Drunkard's Walk, The\", 'Availability': 'Yes', 'Check': 0, 'Loaned User': ' ', 'Last User': ' ', 'Status': ' ', 'Reserved To': ' '}\n",
      "\n",
      "\n",
      "{'Book ID': '9', 'Book Name': 'Image Processing & Mathematical Morphology', 'Availability': 'Yes', 'Check': 0, 'Loaned User': ' ', 'Last User': ' ', 'Status': ' ', 'Reserved To': ' '}\n",
      "\n",
      "\n",
      "{'Book ID': '10', 'Book Name': 'How to Think Like Sherlock Holmes', 'Availability': 'Yes', 'Check': 0, 'Loaned User': ' ', 'Last User': ' ', 'Status': ' ', 'Reserved To': ' '}\n",
      "\n",
      "\n"
     ]
    },
    {
     "name": "stdin",
     "output_type": "stream",
     "text": [
      "Please Write The Full Book Title Here Orientalism\n",
      "Scan Your Card Number 13\n"
     ]
    },
    {
     "name": "stdout",
     "output_type": "stream",
     "text": [
      "Orientalism Book Has Been Loaned For The  Member Adelaide Cunningham\n"
     ]
    }
   ],
   "source": [
    "# I called the UserInterface function to test the book loan test\n",
    "UserInterface()"
   ]
  },
  {
   "cell_type": "code",
   "execution_count": 47,
   "metadata": {},
   "outputs": [
    {
     "name": "stdout",
     "output_type": "stream",
     "text": [
      "-------------------------------------\n",
      "Welcome To The Keele Library System\n",
      "\n",
      "Please write the number of the choice below\n",
      "\n",
      "1 - Borrow Book \n",
      "\n",
      "2 - Return Book \n",
      "\n",
      "3 - Reserve Book \n",
      "\n",
      "4 - Apply For Membership Card \n",
      "\n",
      "5 - Join E-Mail Notification \n",
      "\n",
      "6 - Exit \n",
      "\n"
     ]
    },
    {
     "name": "stdin",
     "output_type": "stream",
     "text": [
      "Your Choice 1\n"
     ]
    },
    {
     "name": "stdout",
     "output_type": "stream",
     "text": [
      "Borrow Book\n",
      "{'Book ID': '2', 'Book Name': 'Data Smart', 'Availability': 'Yes', 'Check': 0, 'Loaned User': ' ', 'Last User': ' ', 'Status': ' ', 'Reserved To': ' '}\n",
      "\n",
      "\n",
      "{'Book ID': '3', 'Book Name': 'God Created the Integers', 'Availability': 'Yes', 'Check': 0, 'Loaned User': ' ', 'Last User': ' ', 'Status': ' ', 'Reserved To': ' '}\n",
      "\n",
      "\n",
      "{'Book ID': '4', 'Book Name': 'Superfreakonomics', 'Availability': 'Yes', 'Check': 0, 'Loaned User': ' ', 'Last User': ' ', 'Status': ' ', 'Reserved To': ' '}\n",
      "\n",
      "\n",
      "{'Book ID': '6', 'Book Name': 'Nature of Statistical Learning Theory, The', 'Availability': 'Yes', 'Check': 0, 'Loaned User': ' ', 'Last User': ' ', 'Status': ' ', 'Reserved To': ' '}\n",
      "\n",
      "\n",
      "{'Book ID': '7', 'Book Name': 'Integration of the Indian States', 'Availability': 'Yes', 'Check': 0, 'Loaned User': ' ', 'Last User': ' ', 'Status': ' ', 'Reserved To': ' '}\n",
      "\n",
      "\n",
      "{'Book ID': '8', 'Book Name': \"Drunkard's Walk, The\", 'Availability': 'Yes', 'Check': 0, 'Loaned User': ' ', 'Last User': ' ', 'Status': ' ', 'Reserved To': ' '}\n",
      "\n",
      "\n",
      "{'Book ID': '9', 'Book Name': 'Image Processing & Mathematical Morphology', 'Availability': 'Yes', 'Check': 0, 'Loaned User': ' ', 'Last User': ' ', 'Status': ' ', 'Reserved To': ' '}\n",
      "\n",
      "\n",
      "{'Book ID': '10', 'Book Name': 'How to Think Like Sherlock Holmes', 'Availability': 'Yes', 'Check': 0, 'Loaned User': ' ', 'Last User': ' ', 'Status': ' ', 'Reserved To': ' '}\n",
      "\n",
      "\n"
     ]
    },
    {
     "name": "stdin",
     "output_type": "stream",
     "text": [
      "Please Write The Full Book Title Here Integration of the Indian States\n",
      "Scan Your Card Number 33\n"
     ]
    },
    {
     "name": "stdout",
     "output_type": "stream",
     "text": [
      "Integration of the Indian States Book Has Been Loaned For The  Member Eric Cooper\n"
     ]
    }
   ],
   "source": [
    "UserInterface()"
   ]
  },
  {
   "cell_type": "code",
   "execution_count": 55,
   "metadata": {},
   "outputs": [
    {
     "name": "stdout",
     "output_type": "stream",
     "text": [
      "-------------------------------------\n",
      "Welcome To The Keele Library System\n",
      "\n",
      "Please write the number of the choice below\n",
      "\n",
      "1 - Borrow Book \n",
      "\n",
      "2 - Return Book \n",
      "\n",
      "3 - Reserve Book \n",
      "\n",
      "4 - Apply For Membership Card \n",
      "\n",
      "5 - Join E-Mail Notification \n",
      "\n",
      "6 - Exit \n",
      "\n"
     ]
    },
    {
     "name": "stdin",
     "output_type": "stream",
     "text": [
      "Your Choice 1\n"
     ]
    },
    {
     "name": "stdout",
     "output_type": "stream",
     "text": [
      "Borrow Book\n",
      "{'Book ID': '3', 'Book Name': 'God Created the Integers', 'Availability': 'Yes', 'Check': 0, 'Loaned User': ' ', 'Last User': ' ', 'Status': ' ', 'Reserved To': ' '}\n",
      "\n",
      "\n",
      "{'Book ID': '4', 'Book Name': 'Superfreakonomics', 'Availability': 'Yes', 'Check': 0, 'Loaned User': ' ', 'Last User': ' ', 'Status': ' ', 'Reserved To': ' '}\n",
      "\n",
      "\n",
      "{'Book ID': '6', 'Book Name': 'Nature of Statistical Learning Theory, The', 'Availability': 'Yes', 'Check': 0, 'Loaned User': ' ', 'Last User': ' ', 'Status': ' ', 'Reserved To': ' '}\n",
      "\n",
      "\n",
      "{'Book ID': '8', 'Book Name': \"Drunkard's Walk, The\", 'Availability': 'Yes', 'Check': 0, 'Loaned User': ' ', 'Last User': ' ', 'Status': ' ', 'Reserved To': ' '}\n",
      "\n",
      "\n",
      "{'Book ID': '9', 'Book Name': 'Image Processing & Mathematical Morphology', 'Availability': 'Yes', 'Check': 0, 'Loaned User': ' ', 'Last User': ' ', 'Status': ' ', 'Reserved To': ' '}\n",
      "\n",
      "\n",
      "{'Book ID': '10', 'Book Name': 'How to Think Like Sherlock Holmes', 'Availability': 'Yes', 'Check': 0, 'Loaned User': ' ', 'Last User': ' ', 'Status': ' ', 'Reserved To': ' '}\n",
      "\n",
      "\n"
     ]
    },
    {
     "name": "stdin",
     "output_type": "stream",
     "text": [
      "Please Write The Full Book Title Here God Created the Integers\n",
      "Scan Your Card Number 161\n"
     ]
    },
    {
     "name": "stdout",
     "output_type": "stream",
     "text": [
      "God Created the Integers Book Has Been Loaned For The  Member Brad Alexander\n"
     ]
    }
   ],
   "source": [
    "UserInterface()"
   ]
  },
  {
   "cell_type": "code",
   "execution_count": 56,
   "metadata": {},
   "outputs": [
    {
     "name": "stdout",
     "output_type": "stream",
     "text": [
      "-------------------------------------\n",
      "Welcome To The Keele Library System\n",
      "\n",
      "Please write the number of the choice below\n",
      "\n",
      "1 - Borrow Book \n",
      "\n",
      "2 - Return Book \n",
      "\n",
      "3 - Reserve Book \n",
      "\n",
      "4 - Apply For Membership Card \n",
      "\n",
      "5 - Join E-Mail Notification \n",
      "\n",
      "6 - Exit \n",
      "\n"
     ]
    },
    {
     "name": "stdin",
     "output_type": "stream",
     "text": [
      "Your Choice 1\n"
     ]
    },
    {
     "name": "stdout",
     "output_type": "stream",
     "text": [
      "Borrow Book\n",
      "{'Book ID': '4', 'Book Name': 'Superfreakonomics', 'Availability': 'Yes', 'Check': 0, 'Loaned User': ' ', 'Last User': ' ', 'Status': ' ', 'Reserved To': ' '}\n",
      "\n",
      "\n",
      "{'Book ID': '6', 'Book Name': 'Nature of Statistical Learning Theory, The', 'Availability': 'Yes', 'Check': 0, 'Loaned User': ' ', 'Last User': ' ', 'Status': ' ', 'Reserved To': ' '}\n",
      "\n",
      "\n",
      "{'Book ID': '8', 'Book Name': \"Drunkard's Walk, The\", 'Availability': 'Yes', 'Check': 0, 'Loaned User': ' ', 'Last User': ' ', 'Status': ' ', 'Reserved To': ' '}\n",
      "\n",
      "\n",
      "{'Book ID': '9', 'Book Name': 'Image Processing & Mathematical Morphology', 'Availability': 'Yes', 'Check': 0, 'Loaned User': ' ', 'Last User': ' ', 'Status': ' ', 'Reserved To': ' '}\n",
      "\n",
      "\n",
      "{'Book ID': '10', 'Book Name': 'How to Think Like Sherlock Holmes', 'Availability': 'Yes', 'Check': 0, 'Loaned User': ' ', 'Last User': ' ', 'Status': ' ', 'Reserved To': ' '}\n",
      "\n",
      "\n"
     ]
    },
    {
     "name": "stdin",
     "output_type": "stream",
     "text": [
      "Please Write The Full Book Title Here Superfreakonomics\n",
      "Scan Your Card Number 172\n"
     ]
    },
    {
     "name": "stdout",
     "output_type": "stream",
     "text": [
      "Superfreakonomics Book Has Been Loaned For The  Member Lucia Spencer\n"
     ]
    }
   ],
   "source": [
    "UserInterface()"
   ]
  },
  {
   "cell_type": "markdown",
   "metadata": {},
   "source": [
    "## 2 - Return Book Test"
   ]
  },
  {
   "cell_type": "markdown",
   "metadata": {},
   "source": [
    "I have done 2 test to return the book."
   ]
  },
  {
   "cell_type": "code",
   "execution_count": 27,
   "metadata": {},
   "outputs": [
    {
     "name": "stdout",
     "output_type": "stream",
     "text": [
      "-------------------------------------\n",
      "Welcome To The Keele Library System\n",
      "\n",
      "Please write the number of the choice below\n",
      "\n",
      "1 - Borrow Book \n",
      "\n",
      "2 - Return Book \n",
      "\n",
      "3 - Reserve Book \n",
      "\n",
      "4 - Apply For Membership Card \n",
      "\n",
      "5 - Join E-Mail Notification \n",
      "\n",
      "6 - Exit \n",
      "\n"
     ]
    },
    {
     "name": "stdin",
     "output_type": "stream",
     "text": [
      "Your Choice 2\n"
     ]
    },
    {
     "name": "stdout",
     "output_type": "stream",
     "text": [
      "Return Book\n",
      "----------------- Books On Loan -----------------\n",
      "{'Book ID': '118', 'Book Name': 'One', 'Availability': 'No', 'Check': 1, 'Loaned User': 'Nicole Phillips', 'Last User': ' ', 'Status': ' ', 'Reserved To': ' '}\n",
      "\n",
      "\n"
     ]
    },
    {
     "name": "stdin",
     "output_type": "stream",
     "text": [
      "Please Enter The Book Name You Want To Return:  One\n",
      "Please Enter Your Card Number 143\n"
     ]
    },
    {
     "name": "stdout",
     "output_type": "stream",
     "text": [
      "Thank You Nicole Phillips To ReturnOne On Time\n"
     ]
    }
   ],
   "source": [
    "UserInterface()"
   ]
  },
  {
   "cell_type": "code",
   "execution_count": 57,
   "metadata": {},
   "outputs": [
    {
     "name": "stdout",
     "output_type": "stream",
     "text": [
      "-------------------------------------\n",
      "Welcome To The Keele Library System\n",
      "\n",
      "Please write the number of the choice below\n",
      "\n",
      "1 - Borrow Book \n",
      "\n",
      "2 - Return Book \n",
      "\n",
      "3 - Reserve Book \n",
      "\n",
      "4 - Apply For Membership Card \n",
      "\n",
      "5 - Join E-Mail Notification \n",
      "\n",
      "6 - Exit \n",
      "\n"
     ]
    },
    {
     "name": "stdin",
     "output_type": "stream",
     "text": [
      "Your Choice 2\n"
     ]
    },
    {
     "name": "stdout",
     "output_type": "stream",
     "text": [
      "Return Book\n",
      "----------------- Books On Loan -----------------\n",
      "{'Book ID': '1', 'Book Name': 'Fundamentals of Wavelets', 'Availability': 'No', 'Check': 1, 'Loaned User': 'Charlie Roberts', 'Last User': ' ', 'Status': ' ', 'Reserved To': ' '}\n",
      "\n",
      "\n",
      "{'Book ID': '5', 'Book Name': 'Orientalism', 'Availability': 'No', 'Check': 1, 'Loaned User': 'Adelaide Cunningham', 'Last User': ' ', 'Status': ' ', 'Reserved To': ' '}\n",
      "\n",
      "\n",
      "{'Book ID': '7', 'Book Name': 'Integration of the Indian States', 'Availability': 'No', 'Check': 1, 'Loaned User': 'Eric Cooper', 'Last User': ' ', 'Status': ' ', 'Reserved To': ' '}\n",
      "\n",
      "\n",
      "{'Book ID': '2', 'Book Name': 'Data Smart', 'Availability': 'No', 'Check': 1, 'Loaned User': ' ', 'Last User': ' ', 'Status': 'Reserved', 'Reserved To': 'Brad Alexander'}\n",
      "\n",
      "\n",
      "{'Book ID': '3', 'Book Name': 'God Created the Integers', 'Availability': 'No', 'Check': 1, 'Loaned User': 'Brad Alexander', 'Last User': ' ', 'Status': ' ', 'Reserved To': ' '}\n",
      "\n",
      "\n",
      "{'Book ID': '120', 'Book Name': 'To Sir With Love', 'Availability': 'No', 'Check': 1, 'Loaned User': ' ', 'Last User': ' ', 'Status': 'Reserved', 'Reserved To': 'Lucia Spencer'}\n",
      "\n",
      "\n",
      "{'Book ID': '4', 'Book Name': 'Superfreakonomics', 'Availability': 'No', 'Check': 1, 'Loaned User': 'Lucia Spencer', 'Last User': ' ', 'Status': ' ', 'Reserved To': ' '}\n",
      "\n",
      "\n"
     ]
    },
    {
     "name": "stdin",
     "output_type": "stream",
     "text": [
      "Please Enter The Book Name You Want To Return:  Fundamentals of Wavelets\n",
      "Please Enter Your Card Number 22\n"
     ]
    },
    {
     "name": "stdout",
     "output_type": "stream",
     "text": [
      "Thank You Charlie Roberts To ReturnFundamentals of Wavelets On Time\n"
     ]
    }
   ],
   "source": [
    "UserInterface()"
   ]
  },
  {
   "cell_type": "markdown",
   "metadata": {},
   "source": [
    "## 3 - Apply Membership Test"
   ]
  },
  {
   "cell_type": "markdown",
   "metadata": {},
   "source": [
    "I have saved 2 new users to the library system"
   ]
  },
  {
   "cell_type": "code",
   "execution_count": 28,
   "metadata": {},
   "outputs": [
    {
     "name": "stdout",
     "output_type": "stream",
     "text": [
      "-------------------------------------\n",
      "Welcome To The Keele Library System\n",
      "\n",
      "Please write the number of the choice below\n",
      "\n",
      "1 - Borrow Book \n",
      "\n",
      "2 - Return Book \n",
      "\n",
      "3 - Reserve Book \n",
      "\n",
      "4 - Apply For Membership Card \n",
      "\n",
      "5 - Join E-Mail Notification \n",
      "\n",
      "6 - Exit \n",
      "\n"
     ]
    },
    {
     "name": "stdin",
     "output_type": "stream",
     "text": [
      "Your Choice 4\n"
     ]
    },
    {
     "name": "stdout",
     "output_type": "stream",
     "text": [
      "Apply Membership\n"
     ]
    },
    {
     "name": "stdin",
     "output_type": "stream",
     "text": [
      "Please Enter Your Name : Ahmed\n",
      "Please Enter Your Surname : Naz\n",
      "Please Enter Your Mail : ahn@ahn.c\n",
      "Please Enter Your Gender : Male\n"
     ]
    },
    {
     "name": "stdout",
     "output_type": "stream",
     "text": [
      "Register completed for Ahmed Naz Welcome To Keele University Library\n"
     ]
    }
   ],
   "source": [
    "UserInterface()"
   ]
  },
  {
   "cell_type": "code",
   "execution_count": 54,
   "metadata": {},
   "outputs": [
    {
     "name": "stdout",
     "output_type": "stream",
     "text": [
      "-------------------------------------\n",
      "Welcome To The Keele Library System\n",
      "\n",
      "Please write the number of the choice below\n",
      "\n",
      "1 - Borrow Book \n",
      "\n",
      "2 - Return Book \n",
      "\n",
      "3 - Reserve Book \n",
      "\n",
      "4 - Apply For Membership Card \n",
      "\n",
      "5 - Join E-Mail Notification \n",
      "\n",
      "6 - Exit \n",
      "\n"
     ]
    },
    {
     "name": "stdin",
     "output_type": "stream",
     "text": [
      "Your Choice 4\n"
     ]
    },
    {
     "name": "stdout",
     "output_type": "stream",
     "text": [
      "Apply Membership\n"
     ]
    },
    {
     "name": "stdin",
     "output_type": "stream",
     "text": [
      "Please Enter Your Name : Kia\n",
      "Please Enter Your Surname : Clement\n",
      "Please Enter Your Mail : kclem@clem.com\n",
      "Please Enter Your Gender : Female\n"
     ]
    },
    {
     "name": "stdout",
     "output_type": "stream",
     "text": [
      "Register completed for Kia Clement Welcome To Keele University Library\n"
     ]
    }
   ],
   "source": [
    "UserInterface()"
   ]
  },
  {
   "cell_type": "markdown",
   "metadata": {},
   "source": [
    "## 4 - Reserve Book Test"
   ]
  },
  {
   "cell_type": "markdown",
   "metadata": {},
   "source": [
    "##### I have done 2 test for Reserving a Book\n"
   ]
  },
  {
   "cell_type": "code",
   "execution_count": 52,
   "metadata": {},
   "outputs": [
    {
     "name": "stdout",
     "output_type": "stream",
     "text": [
      "-------------------------------------\n",
      "Welcome To The Keele Library System\n",
      "\n",
      "Please write the number of the choice below\n",
      "\n",
      "1 - Borrow Book \n",
      "\n",
      "2 - Return Book \n",
      "\n",
      "3 - Reserve Book \n",
      "\n",
      "4 - Apply For Membership Card \n",
      "\n",
      "5 - Join E-Mail Notification \n",
      "\n",
      "6 - Exit \n",
      "\n"
     ]
    },
    {
     "name": "stdin",
     "output_type": "stream",
     "text": [
      "Your Choice 3\n"
     ]
    },
    {
     "name": "stdout",
     "output_type": "stream",
     "text": [
      "Reserve Book\n",
      "{'Book ID': '2', 'Book Name': 'Data Smart', 'Availability': 'Yes', 'Check': 0, 'Loaned User': ' ', 'Last User': ' ', 'Status': ' ', 'Reserved To': ' '}\n",
      "\n",
      "\n",
      "{'Book ID': '3', 'Book Name': 'God Created the Integers', 'Availability': 'Yes', 'Check': 0, 'Loaned User': ' ', 'Last User': ' ', 'Status': ' ', 'Reserved To': ' '}\n",
      "\n",
      "\n",
      "{'Book ID': '4', 'Book Name': 'Superfreakonomics', 'Availability': 'Yes', 'Check': 0, 'Loaned User': ' ', 'Last User': ' ', 'Status': ' ', 'Reserved To': ' '}\n",
      "\n",
      "\n",
      "{'Book ID': '6', 'Book Name': 'Nature of Statistical Learning Theory, The', 'Availability': 'Yes', 'Check': 0, 'Loaned User': ' ', 'Last User': ' ', 'Status': ' ', 'Reserved To': ' '}\n",
      "\n",
      "\n",
      "{'Book ID': '8', 'Book Name': \"Drunkard's Walk, The\", 'Availability': 'Yes', 'Check': 0, 'Loaned User': ' ', 'Last User': ' ', 'Status': ' ', 'Reserved To': ' '}\n",
      "\n",
      "\n",
      "{'Book ID': '9', 'Book Name': 'Image Processing & Mathematical Morphology', 'Availability': 'Yes', 'Check': 0, 'Loaned User': ' ', 'Last User': ' ', 'Status': ' ', 'Reserved To': ' '}\n",
      "\n",
      "\n",
      "{'Book ID': '10', 'Book Name': 'How to Think Like Sherlock Holmes', 'Availability': 'Yes', 'Check': 0, 'Loaned User': ' ', 'Last User': ' ', 'Status': ' ', 'Reserved To': ' '}\n",
      "\n",
      "\n",
      "{'Book ID': '11', 'Book Name': 'Data Scientists at Work', 'Availability': 'Yes', 'Check': 0, 'Loaned User': ' ', 'Last User': ' ', 'Status': ' ', 'Reserved To': ' '}\n",
      "\n",
      "\n",
      "{'Book ID': '12', 'Book Name': 'Slaughterhouse Five', 'Availability': 'Yes', 'Check': 0, 'Loaned User': ' ', 'Last User': ' ', 'Status': ' ', 'Reserved To': ' '}\n",
      "\n",
      "\n",
      "{'Book ID': '13', 'Book Name': 'Birth of a Theorem', 'Availability': 'Yes', 'Check': 0, 'Loaned User': ' ', 'Last User': ' ', 'Status': ' ', 'Reserved To': ' '}\n",
      "\n",
      "\n",
      "{'Book ID': '14', 'Book Name': 'Structure & Interpretation of Computer Programs', 'Availability': 'Yes', 'Check': 0, 'Loaned User': ' ', 'Last User': ' ', 'Status': ' ', 'Reserved To': ' '}\n",
      "\n",
      "\n",
      "{'Book ID': '15', 'Book Name': 'Age of Wrath, The', 'Availability': 'Yes', 'Check': 0, 'Loaned User': ' ', 'Last User': ' ', 'Status': ' ', 'Reserved To': ' '}\n",
      "\n",
      "\n",
      "{'Book ID': '16', 'Book Name': 'Trial, The', 'Availability': 'Yes', 'Check': 0, 'Loaned User': ' ', 'Last User': ' ', 'Status': ' ', 'Reserved To': ' '}\n",
      "\n",
      "\n",
      "{'Book ID': '17', 'Book Name': \"Statistical Decision Theory'\", 'Availability': 'Yes', 'Check': 0, 'Loaned User': ' ', 'Last User': ' ', 'Status': ' ', 'Reserved To': ' '}\n",
      "\n",
      "\n",
      "{'Book ID': '18', 'Book Name': 'Data Mining Handbook', 'Availability': 'Yes', 'Check': 0, 'Loaned User': ' ', 'Last User': ' ', 'Status': ' ', 'Reserved To': ' '}\n",
      "\n",
      "\n",
      "{'Book ID': '19', 'Book Name': 'New Machiavelli, The', 'Availability': 'Yes', 'Check': 0, 'Loaned User': ' ', 'Last User': ' ', 'Status': ' ', 'Reserved To': ' '}\n",
      "\n",
      "\n",
      "{'Book ID': '20', 'Book Name': 'Physics & Philosophy', 'Availability': 'Yes', 'Check': 0, 'Loaned User': ' ', 'Last User': ' ', 'Status': ' ', 'Reserved To': ' '}\n",
      "\n",
      "\n",
      "{'Book ID': '21', 'Book Name': 'Making Software', 'Availability': 'Yes', 'Check': 0, 'Loaned User': ' ', 'Last User': ' ', 'Status': ' ', 'Reserved To': ' '}\n",
      "\n",
      "\n",
      "{'Book ID': '22', 'Book Name': 'Analysis, Vol I', 'Availability': 'Yes', 'Check': 0, 'Loaned User': ' ', 'Last User': ' ', 'Status': ' ', 'Reserved To': ' '}\n",
      "\n",
      "\n",
      "{'Book ID': '23', 'Book Name': 'Machine Learning for Hackers', 'Availability': 'Yes', 'Check': 0, 'Loaned User': ' ', 'Last User': ' ', 'Status': ' ', 'Reserved To': ' '}\n",
      "\n",
      "\n",
      "{'Book ID': '24', 'Book Name': 'Signal and the Noise, The', 'Availability': 'Yes', 'Check': 0, 'Loaned User': ' ', 'Last User': ' ', 'Status': ' ', 'Reserved To': ' '}\n",
      "\n",
      "\n",
      "{'Book ID': '25', 'Book Name': 'Python for Data Analysis', 'Availability': 'Yes', 'Check': 0, 'Loaned User': ' ', 'Last User': ' ', 'Status': ' ', 'Reserved To': ' '}\n",
      "\n",
      "\n",
      "{'Book ID': '26', 'Book Name': 'Introduction to Algorithms', 'Availability': 'Yes', 'Check': 0, 'Loaned User': ' ', 'Last User': ' ', 'Status': ' ', 'Reserved To': ' '}\n",
      "\n",
      "\n",
      "{'Book ID': '27', 'Book Name': 'Beautiful and the Damned, The', 'Availability': 'Yes', 'Check': 0, 'Loaned User': ' ', 'Last User': ' ', 'Status': ' ', 'Reserved To': ' '}\n",
      "\n",
      "\n",
      "{'Book ID': '28', 'Book Name': 'Outsider, The', 'Availability': 'Yes', 'Check': 0, 'Loaned User': ' ', 'Last User': ' ', 'Status': ' ', 'Reserved To': ' '}\n",
      "\n",
      "\n",
      "{'Book ID': '29', 'Book Name': 'Complete Sherlock Holmes, The - Vol I', 'Availability': 'Yes', 'Check': 0, 'Loaned User': ' ', 'Last User': ' ', 'Status': ' ', 'Reserved To': ' '}\n",
      "\n",
      "\n",
      "{'Book ID': '30', 'Book Name': 'Complete Sherlock Holmes, The - Vol II', 'Availability': 'Yes', 'Check': 0, 'Loaned User': ' ', 'Last User': ' ', 'Status': ' ', 'Reserved To': ' '}\n",
      "\n",
      "\n",
      "{'Book ID': '31', 'Book Name': 'Wealth of Nations, The', 'Availability': 'Yes', 'Check': 0, 'Loaned User': ' ', 'Last User': ' ', 'Status': ' ', 'Reserved To': ' '}\n",
      "\n",
      "\n",
      "{'Book ID': '32', 'Book Name': 'Pillars of the Earth, The', 'Availability': 'Yes', 'Check': 0, 'Loaned User': ' ', 'Last User': ' ', 'Status': ' ', 'Reserved To': ' '}\n",
      "\n",
      "\n",
      "{'Book ID': '33', 'Book Name': 'Mein Kampf', 'Availability': 'Yes', 'Check': 0, 'Loaned User': ' ', 'Last User': ' ', 'Status': ' ', 'Reserved To': ' '}\n",
      "\n",
      "\n",
      "{'Book ID': '34', 'Book Name': 'Tao of Physics, The', 'Availability': 'Yes', 'Check': 0, 'Loaned User': ' ', 'Last User': ' ', 'Status': ' ', 'Reserved To': ' '}\n",
      "\n",
      "\n",
      "{'Book ID': '35', 'Book Name': \"Surely You're Joking Mr Feynman\", 'Availability': 'Yes', 'Check': 0, 'Loaned User': ' ', 'Last User': ' ', 'Status': ' ', 'Reserved To': ' '}\n",
      "\n",
      "\n",
      "{'Book ID': '36', 'Book Name': 'Farewell to Arms, A', 'Availability': 'Yes', 'Check': 0, 'Loaned User': ' ', 'Last User': ' ', 'Status': ' ', 'Reserved To': ' '}\n",
      "\n",
      "\n",
      "{'Book ID': '37', 'Book Name': 'Veteran, The', 'Availability': 'Yes', 'Check': 0, 'Loaned User': ' ', 'Last User': ' ', 'Status': ' ', 'Reserved To': ' '}\n",
      "\n",
      "\n",
      "{'Book ID': '38', 'Book Name': 'False Impressions', 'Availability': 'Yes', 'Check': 0, 'Loaned User': ' ', 'Last User': ' ', 'Status': ' ', 'Reserved To': ' '}\n",
      "\n",
      "\n",
      "{'Book ID': '39', 'Book Name': 'Last Lecture, The', 'Availability': 'Yes', 'Check': 0, 'Loaned User': ' ', 'Last User': ' ', 'Status': ' ', 'Reserved To': ' '}\n",
      "\n",
      "\n",
      "{'Book ID': '40', 'Book Name': 'Return of the Primitive', 'Availability': 'Yes', 'Check': 0, 'Loaned User': ' ', 'Last User': ' ', 'Status': ' ', 'Reserved To': ' '}\n",
      "\n",
      "\n",
      "{'Book ID': '41', 'Book Name': 'Jurassic Park', 'Availability': 'Yes', 'Check': 0, 'Loaned User': ' ', 'Last User': ' ', 'Status': ' ', 'Reserved To': ' '}\n",
      "\n",
      "\n",
      "{'Book ID': '42', 'Book Name': 'Russian Journal, A', 'Availability': 'Yes', 'Check': 0, 'Loaned User': ' ', 'Last User': ' ', 'Status': ' ', 'Reserved To': ' '}\n",
      "\n",
      "\n",
      "{'Book ID': '43', 'Book Name': 'Tales of Mystery and Imagination', 'Availability': 'Yes', 'Check': 0, 'Loaned User': ' ', 'Last User': ' ', 'Status': ' ', 'Reserved To': ' '}\n",
      "\n",
      "\n",
      "{'Book ID': '44', 'Book Name': 'Freakonomics', 'Availability': 'Yes', 'Check': 0, 'Loaned User': ' ', 'Last User': ' ', 'Status': ' ', 'Reserved To': ' '}\n",
      "\n",
      "\n",
      "{'Book ID': '45', 'Book Name': 'Hidden Connections, The', 'Availability': 'Yes', 'Check': 0, 'Loaned User': ' ', 'Last User': ' ', 'Status': ' ', 'Reserved To': ' '}\n",
      "\n",
      "\n",
      "{'Book ID': '46', 'Book Name': 'Story of Philosophy, The', 'Availability': 'Yes', 'Check': 0, 'Loaned User': ' ', 'Last User': ' ', 'Status': ' ', 'Reserved To': ' '}\n",
      "\n",
      "\n",
      "{'Book ID': '47', 'Book Name': 'Asami Asami', 'Availability': 'Yes', 'Check': 0, 'Loaned User': ' ', 'Last User': ' ', 'Status': ' ', 'Reserved To': ' '}\n",
      "\n",
      "\n",
      "{'Book ID': '48', 'Book Name': 'Journal of a Novel', 'Availability': 'Yes', 'Check': 0, 'Loaned User': ' ', 'Last User': ' ', 'Status': ' ', 'Reserved To': ' '}\n",
      "\n",
      "\n",
      "{'Book ID': '49', 'Book Name': 'Once There Was a War', 'Availability': 'Yes', 'Check': 0, 'Loaned User': ' ', 'Last User': ' ', 'Status': ' ', 'Reserved To': ' '}\n",
      "\n",
      "\n",
      "{'Book ID': '50', 'Book Name': 'Moon is Down, The', 'Availability': 'Yes', 'Check': 0, 'Loaned User': ' ', 'Last User': ' ', 'Status': ' ', 'Reserved To': ' '}\n",
      "\n",
      "\n",
      "{'Book ID': '51', 'Book Name': 'Brethren, The', 'Availability': 'Yes', 'Check': 0, 'Loaned User': ' ', 'Last User': ' ', 'Status': ' ', 'Reserved To': ' '}\n",
      "\n",
      "\n",
      "{'Book ID': '52', 'Book Name': 'In a Free State', 'Availability': 'Yes', 'Check': 0, 'Loaned User': ' ', 'Last User': ' ', 'Status': ' ', 'Reserved To': ' '}\n",
      "\n",
      "\n",
      "{'Book ID': '53', 'Book Name': 'Catch 22', 'Availability': 'Yes', 'Check': 0, 'Loaned User': ' ', 'Last User': ' ', 'Status': ' ', 'Reserved To': ' '}\n",
      "\n",
      "\n",
      "{'Book ID': '54', 'Book Name': 'Complete Mastermind, The', 'Availability': 'Yes', 'Check': 0, 'Loaned User': ' ', 'Last User': ' ', 'Status': ' ', 'Reserved To': ' '}\n",
      "\n",
      "\n",
      "{'Book ID': '55', 'Book Name': 'Dylan on Dylan', 'Availability': 'Yes', 'Check': 0, 'Loaned User': ' ', 'Last User': ' ', 'Status': ' ', 'Reserved To': ' '}\n",
      "\n",
      "\n",
      "{'Book ID': '56', 'Book Name': 'Soft Computing & Intelligent Systems', 'Availability': 'Yes', 'Check': 0, 'Loaned User': ' ', 'Last User': ' ', 'Status': ' ', 'Reserved To': ' '}\n",
      "\n",
      "\n",
      "{'Book ID': '57', 'Book Name': 'Textbook of Economic Theory', 'Availability': 'Yes', 'Check': 0, 'Loaned User': ' ', 'Last User': ' ', 'Status': ' ', 'Reserved To': ' '}\n",
      "\n",
      "\n",
      "{'Book ID': '58', 'Book Name': 'Econometric Analysis', 'Availability': 'Yes', 'Check': 0, 'Loaned User': ' ', 'Last User': ' ', 'Status': ' ', 'Reserved To': ' '}\n",
      "\n",
      "\n",
      "{'Book ID': '59', 'Book Name': 'Learning OpenCV', 'Availability': 'Yes', 'Check': 0, 'Loaned User': ' ', 'Last User': ' ', 'Status': ' ', 'Reserved To': ' '}\n",
      "\n",
      "\n",
      "{'Book ID': '60', 'Book Name': 'Data Structures Using C & C++', 'Availability': 'Yes', 'Check': 0, 'Loaned User': ' ', 'Last User': ' ', 'Status': ' ', 'Reserved To': ' '}\n",
      "\n",
      "\n",
      "{'Book ID': '61', 'Book Name': 'Computer Vision, A Modern Approach', 'Availability': 'Yes', 'Check': 0, 'Loaned User': ' ', 'Last User': ' ', 'Status': ' ', 'Reserved To': ' '}\n",
      "\n",
      "\n",
      "{'Book ID': '62', 'Book Name': 'Principles of Communication Systems', 'Availability': 'Yes', 'Check': 0, 'Loaned User': ' ', 'Last User': ' ', 'Status': ' ', 'Reserved To': ' '}\n",
      "\n",
      "\n",
      "{'Book ID': '63', 'Book Name': 'Let Us C', 'Availability': 'Yes', 'Check': 0, 'Loaned User': ' ', 'Last User': ' ', 'Status': ' ', 'Reserved To': ' '}\n",
      "\n",
      "\n",
      "{'Book ID': '64', 'Book Name': 'Amulet of Samarkand, The', 'Availability': 'Yes', 'Check': 0, 'Loaned User': ' ', 'Last User': ' ', 'Status': ' ', 'Reserved To': ' '}\n",
      "\n",
      "\n",
      "{'Book ID': '65', 'Book Name': 'Crime and Punishment', 'Availability': 'Yes', 'Check': 0, 'Loaned User': ' ', 'Last User': ' ', 'Status': ' ', 'Reserved To': ' '}\n",
      "\n",
      "\n",
      "{'Book ID': '66', 'Book Name': 'Angels & Demons', 'Availability': 'Yes', 'Check': 0, 'Loaned User': ' ', 'Last User': ' ', 'Status': ' ', 'Reserved To': ' '}\n",
      "\n",
      "\n",
      "{'Book ID': '67', 'Book Name': 'Argumentative Indian, The', 'Availability': 'Yes', 'Check': 0, 'Loaned User': ' ', 'Last User': ' ', 'Status': ' ', 'Reserved To': ' '}\n",
      "\n",
      "\n",
      "{'Book ID': '68', 'Book Name': 'Sea of Poppies', 'Availability': 'Yes', 'Check': 0, 'Loaned User': ' ', 'Last User': ' ', 'Status': ' ', 'Reserved To': ' '}\n",
      "\n",
      "\n",
      "{'Book ID': '69', 'Book Name': 'Idea of Justice, The', 'Availability': 'Yes', 'Check': 0, 'Loaned User': ' ', 'Last User': ' ', 'Status': ' ', 'Reserved To': ' '}\n",
      "\n",
      "\n",
      "{'Book ID': '70', 'Book Name': 'Raisin in the Sun, A', 'Availability': 'Yes', 'Check': 0, 'Loaned User': ' ', 'Last User': ' ', 'Status': ' ', 'Reserved To': ' '}\n",
      "\n",
      "\n",
      "{'Book ID': '71', 'Book Name': \"All the President's Men\", 'Availability': 'Yes', 'Check': 0, 'Loaned User': ' ', 'Last User': ' ', 'Status': ' ', 'Reserved To': ' '}\n",
      "\n",
      "\n",
      "{'Book ID': '72', 'Book Name': 'Prisoner of Birth, A', 'Availability': 'Yes', 'Check': 0, 'Loaned User': ' ', 'Last User': ' ', 'Status': ' ', 'Reserved To': ' '}\n",
      "\n",
      "\n",
      "{'Book ID': '73', 'Book Name': 'Scoop!', 'Availability': 'Yes', 'Check': 0, 'Loaned User': ' ', 'Last User': ' ', 'Status': ' ', 'Reserved To': ' '}\n",
      "\n",
      "\n",
      "{'Book ID': '74', 'Book Name': 'Ahe Manohar Tari', 'Availability': 'Yes', 'Check': 0, 'Loaned User': ' ', 'Last User': ' ', 'Status': ' ', 'Reserved To': ' '}\n",
      "\n",
      "\n",
      "{'Book ID': '75', 'Book Name': 'Last Mughal, The', 'Availability': 'Yes', 'Check': 0, 'Loaned User': ' ', 'Last User': ' ', 'Status': ' ', 'Reserved To': ' '}\n",
      "\n",
      "\n",
      "{'Book ID': '76', 'Book Name': 'Social Choice & Welfare, Vol 39 No. 1', 'Availability': 'Yes', 'Check': 0, 'Loaned User': ' ', 'Last User': ' ', 'Status': ' ', 'Reserved To': ' '}\n",
      "\n",
      "\n",
      "{'Book ID': '77', 'Book Name': 'Radiowaril Bhashane & Shrutika', 'Availability': 'Yes', 'Check': 0, 'Loaned User': ' ', 'Last User': ' ', 'Status': ' ', 'Reserved To': ' '}\n",
      "\n",
      "\n",
      "{'Book ID': '78', 'Book Name': 'Gun Gayin Awadi', 'Availability': 'Yes', 'Check': 0, 'Loaned User': ' ', 'Last User': ' ', 'Status': ' ', 'Reserved To': ' '}\n",
      "\n",
      "\n",
      "{'Book ID': '79', 'Book Name': 'Aghal Paghal', 'Availability': 'Yes', 'Check': 0, 'Loaned User': ' ', 'Last User': ' ', 'Status': ' ', 'Reserved To': ' '}\n",
      "\n",
      "\n",
      "{'Book ID': '80', 'Book Name': 'Maqta-e-Ghalib', 'Availability': 'Yes', 'Check': 0, 'Loaned User': ' ', 'Last User': ' ', 'Status': ' ', 'Reserved To': ' '}\n",
      "\n",
      "\n",
      "{'Book ID': '81', 'Book Name': 'Beyond Degrees', 'Availability': 'Yes', 'Check': 0, 'Loaned User': ' ', 'Last User': ' ', 'Status': ' ', 'Reserved To': ' '}\n",
      "\n",
      "\n",
      "{'Book ID': '82', 'Book Name': 'Manasa', 'Availability': 'Yes', 'Check': 0, 'Loaned User': ' ', 'Last User': ' ', 'Status': ' ', 'Reserved To': ' '}\n",
      "\n",
      "\n",
      "{'Book ID': '83', 'Book Name': 'India from Midnight to Milennium', 'Availability': 'Yes', 'Check': 0, 'Loaned User': ' ', 'Last User': ' ', 'Status': ' ', 'Reserved To': ' '}\n",
      "\n",
      "\n",
      "{'Book ID': '84', 'Book Name': \"World's Greatest Trials, The\", 'Availability': 'Yes', 'Check': 0, 'Loaned User': ' ', 'Last User': ' ', 'Status': ' ', 'Reserved To': ' '}\n",
      "\n",
      "\n",
      "{'Book ID': '85', 'Book Name': 'Great Indian Novel, The', 'Availability': 'Yes', 'Check': 0, 'Loaned User': ' ', 'Last User': ' ', 'Status': ' ', 'Reserved To': ' '}\n",
      "\n",
      "\n",
      "{'Book ID': '86', 'Book Name': 'O Jerusalem!', 'Availability': 'Yes', 'Check': 0, 'Loaned User': ' ', 'Last User': ' ', 'Status': ' ', 'Reserved To': ' '}\n",
      "\n",
      "\n",
      "{'Book ID': '87', 'Book Name': 'City of Joy, The', 'Availability': 'Yes', 'Check': 0, 'Loaned User': ' ', 'Last User': ' ', 'Status': ' ', 'Reserved To': ' '}\n",
      "\n",
      "\n",
      "{'Book ID': '88', 'Book Name': 'Freedom at Midnight', 'Availability': 'Yes', 'Check': 0, 'Loaned User': ' ', 'Last User': ' ', 'Status': ' ', 'Reserved To': ' '}\n",
      "\n",
      "\n",
      "{'Book ID': '89', 'Book Name': 'Winter of Our Discontent, The', 'Availability': 'Yes', 'Check': 0, 'Loaned User': ' ', 'Last User': ' ', 'Status': ' ', 'Reserved To': ' '}\n",
      "\n",
      "\n",
      "{'Book ID': '90', 'Book Name': 'On Education', 'Availability': 'Yes', 'Check': 0, 'Loaned User': ' ', 'Last User': ' ', 'Status': ' ', 'Reserved To': ' '}\n",
      "\n",
      "\n",
      "{'Book ID': '91', 'Book Name': 'Free Will', 'Availability': 'Yes', 'Check': 0, 'Loaned User': ' ', 'Last User': ' ', 'Status': ' ', 'Reserved To': ' '}\n",
      "\n",
      "\n",
      "{'Book ID': '92', 'Book Name': 'Bookless in Baghdad', 'Availability': 'Yes', 'Check': 0, 'Loaned User': ' ', 'Last User': ' ', 'Status': ' ', 'Reserved To': ' '}\n",
      "\n",
      "\n",
      "{'Book ID': '93', 'Book Name': 'Case of the Lame Canary, The', 'Availability': 'Yes', 'Check': 0, 'Loaned User': ' ', 'Last User': ' ', 'Status': ' ', 'Reserved To': ' '}\n",
      "\n",
      "\n",
      "{'Book ID': '94', 'Book Name': 'Theory of Everything, The', 'Availability': 'Yes', 'Check': 0, 'Loaned User': ' ', 'Last User': ' ', 'Status': ' ', 'Reserved To': ' '}\n",
      "\n",
      "\n",
      "{'Book ID': '95', 'Book Name': 'New Markets & Other Essays', 'Availability': 'Yes', 'Check': 0, 'Loaned User': ' ', 'Last User': ' ', 'Status': ' ', 'Reserved To': ' '}\n",
      "\n",
      "\n",
      "{'Book ID': '96', 'Book Name': 'Electric Universe', 'Availability': 'Yes', 'Check': 0, 'Loaned User': ' ', 'Last User': ' ', 'Status': ' ', 'Reserved To': ' '}\n",
      "\n",
      "\n",
      "{'Book ID': '97', 'Book Name': 'Hunchback of Notre Dame, The', 'Availability': 'Yes', 'Check': 0, 'Loaned User': ' ', 'Last User': ' ', 'Status': ' ', 'Reserved To': ' '}\n",
      "\n",
      "\n",
      "{'Book ID': '98', 'Book Name': 'Burning Bright', 'Availability': 'Yes', 'Check': 0, 'Loaned User': ' ', 'Last User': ' ', 'Status': ' ', 'Reserved To': ' '}\n",
      "\n",
      "\n",
      "{'Book ID': '99', 'Book Name': 'Age of Discontuinity, The', 'Availability': 'Yes', 'Check': 0, 'Loaned User': ' ', 'Last User': ' ', 'Status': ' ', 'Reserved To': ' '}\n",
      "\n",
      "\n",
      "{'Book ID': '100', 'Book Name': 'Doctor in the Nude', 'Availability': 'Yes', 'Check': 0, 'Loaned User': ' ', 'Last User': ' ', 'Status': ' ', 'Reserved To': ' '}\n",
      "\n",
      "\n",
      "{'Book ID': '101', 'Book Name': 'Down and Out in Paris & London', 'Availability': 'Yes', 'Check': 0, 'Loaned User': ' ', 'Last User': ' ', 'Status': ' ', 'Reserved To': ' '}\n",
      "\n",
      "\n",
      "{'Book ID': '102', 'Book Name': 'Identity & Violence', 'Availability': 'Yes', 'Check': 0, 'Loaned User': ' ', 'Last User': ' ', 'Status': ' ', 'Reserved To': ' '}\n",
      "\n",
      "\n",
      "{'Book ID': '103', 'Book Name': 'Beyond the Three Seas', 'Availability': 'Yes', 'Check': 0, 'Loaned User': ' ', 'Last User': ' ', 'Status': ' ', 'Reserved To': ' '}\n",
      "\n",
      "\n",
      "{'Book ID': '104', 'Book Name': \"World's Greatest Short Stories, The\", 'Availability': 'Yes', 'Check': 0, 'Loaned User': ' ', 'Last User': ' ', 'Status': ' ', 'Reserved To': ' '}\n",
      "\n",
      "\n",
      "{'Book ID': '105', 'Book Name': 'Talking Straight', 'Availability': 'Yes', 'Check': 0, 'Loaned User': ' ', 'Last User': ' ', 'Status': ' ', 'Reserved To': ' '}\n",
      "\n",
      "\n",
      "{'Book ID': '106', 'Book Name': \"Maugham's Collected Short Stories, Vol 3\", 'Availability': 'Yes', 'Check': 0, 'Loaned User': ' ', 'Last User': ' ', 'Status': ' ', 'Reserved To': ' '}\n",
      "\n",
      "\n",
      "{'Book ID': '107', 'Book Name': 'Phantom of Manhattan, The', 'Availability': 'Yes', 'Check': 0, 'Loaned User': ' ', 'Last User': ' ', 'Status': ' ', 'Reserved To': ' '}\n",
      "\n",
      "\n",
      "{'Book ID': '108', 'Book Name': 'Ashenden of The British Agent', 'Availability': 'Yes', 'Check': 0, 'Loaned User': ' ', 'Last User': ' ', 'Status': ' ', 'Reserved To': ' '}\n",
      "\n",
      "\n",
      "{'Book ID': '109', 'Book Name': 'Zen & The Art of Motorcycle Maintenance', 'Availability': 'Yes', 'Check': 0, 'Loaned User': ' ', 'Last User': ' ', 'Status': ' ', 'Reserved To': ' '}\n",
      "\n",
      "\n",
      "{'Book ID': '110', 'Book Name': 'Great War for Civilization, The', 'Availability': 'Yes', 'Check': 0, 'Loaned User': ' ', 'Last User': ' ', 'Status': ' ', 'Reserved To': ' '}\n",
      "\n",
      "\n",
      "{'Book ID': '111', 'Book Name': 'We the Living', 'Availability': 'Yes', 'Check': 0, 'Loaned User': ' ', 'Last User': ' ', 'Status': ' ', 'Reserved To': ' '}\n",
      "\n",
      "\n",
      "{'Book ID': '112', 'Book Name': 'Artist and the Mathematician, The', 'Availability': 'Yes', 'Check': 0, 'Loaned User': ' ', 'Last User': ' ', 'Status': ' ', 'Reserved To': ' '}\n",
      "\n",
      "\n",
      "{'Book ID': '113', 'Book Name': 'History of Western Philosophy', 'Availability': 'Yes', 'Check': 0, 'Loaned User': ' ', 'Last User': ' ', 'Status': ' ', 'Reserved To': ' '}\n",
      "\n",
      "\n",
      "{'Book ID': '114', 'Book Name': 'Selected Short Stories', 'Availability': 'Yes', 'Check': 0, 'Loaned User': ' ', 'Last User': ' ', 'Status': ' ', 'Reserved To': ' '}\n",
      "\n",
      "\n",
      "{'Book ID': '115', 'Book Name': 'Rationality & Freedom', 'Availability': 'Yes', 'Check': 0, 'Loaned User': ' ', 'Last User': ' ', 'Status': ' ', 'Reserved To': ' '}\n",
      "\n",
      "\n",
      "{'Book ID': '116', 'Book Name': 'Clash of Civilizations and Remaking of the World Order', 'Availability': 'Yes', 'Check': 0, 'Loaned User': ' ', 'Last User': ' ', 'Status': ' ', 'Reserved To': ' '}\n",
      "\n",
      "\n",
      "{'Book ID': '117', 'Book Name': 'Uncommon Wisdom', 'Availability': 'Yes', 'Check': 0, 'Loaned User': ' ', 'Last User': ' ', 'Status': ' ', 'Reserved To': ' '}\n",
      "\n",
      "\n",
      "{'Book ID': '118', 'Book Name': 'One', 'Availability': 'Yes', 'Check': 0, 'Loaned User': ' ', 'Last User': ' ', 'Status': ' ', 'Reserved To': ' '}\n",
      "\n",
      "\n",
      "{'Book ID': '119', 'Book Name': 'Karl Marx Biography', 'Availability': 'Yes', 'Check': 0, 'Loaned User': ' ', 'Last User': ' ', 'Status': ' ', 'Reserved To': ' '}\n",
      "\n",
      "\n",
      "{'Book ID': '120', 'Book Name': 'To Sir With Love', 'Availability': 'Yes', 'Check': 0, 'Loaned User': ' ', 'Last User': ' ', 'Status': ' ', 'Reserved To': ' '}\n",
      "\n",
      "\n"
     ]
    },
    {
     "name": "stdin",
     "output_type": "stream",
     "text": [
      "Please Write The Full Book Title Here Data Smart\n",
      "Scan Your Card Number 161\n"
     ]
    },
    {
     "name": "stdout",
     "output_type": "stream",
     "text": [
      "The book reserved to  Brad Alexander\n"
     ]
    }
   ],
   "source": [
    "UserInterface()"
   ]
  },
  {
   "cell_type": "code",
   "execution_count": 53,
   "metadata": {},
   "outputs": [
    {
     "name": "stdout",
     "output_type": "stream",
     "text": [
      "-------------------------------------\n",
      "Welcome To The Keele Library System\n",
      "\n",
      "Please write the number of the choice below\n",
      "\n",
      "1 - Borrow Book \n",
      "\n",
      "2 - Return Book \n",
      "\n",
      "3 - Reserve Book \n",
      "\n",
      "4 - Apply For Membership Card \n",
      "\n",
      "5 - Join E-Mail Notification \n",
      "\n",
      "6 - Exit \n",
      "\n"
     ]
    },
    {
     "name": "stdin",
     "output_type": "stream",
     "text": [
      "Your Choice 3\n"
     ]
    },
    {
     "name": "stdout",
     "output_type": "stream",
     "text": [
      "Reserve Book\n",
      "{'Book ID': '3', 'Book Name': 'God Created the Integers', 'Availability': 'Yes', 'Check': 0, 'Loaned User': ' ', 'Last User': ' ', 'Status': ' ', 'Reserved To': ' '}\n",
      "\n",
      "\n",
      "{'Book ID': '4', 'Book Name': 'Superfreakonomics', 'Availability': 'Yes', 'Check': 0, 'Loaned User': ' ', 'Last User': ' ', 'Status': ' ', 'Reserved To': ' '}\n",
      "\n",
      "\n",
      "{'Book ID': '6', 'Book Name': 'Nature of Statistical Learning Theory, The', 'Availability': 'Yes', 'Check': 0, 'Loaned User': ' ', 'Last User': ' ', 'Status': ' ', 'Reserved To': ' '}\n",
      "\n",
      "\n",
      "{'Book ID': '8', 'Book Name': \"Drunkard's Walk, The\", 'Availability': 'Yes', 'Check': 0, 'Loaned User': ' ', 'Last User': ' ', 'Status': ' ', 'Reserved To': ' '}\n",
      "\n",
      "\n",
      "{'Book ID': '9', 'Book Name': 'Image Processing & Mathematical Morphology', 'Availability': 'Yes', 'Check': 0, 'Loaned User': ' ', 'Last User': ' ', 'Status': ' ', 'Reserved To': ' '}\n",
      "\n",
      "\n",
      "{'Book ID': '10', 'Book Name': 'How to Think Like Sherlock Holmes', 'Availability': 'Yes', 'Check': 0, 'Loaned User': ' ', 'Last User': ' ', 'Status': ' ', 'Reserved To': ' '}\n",
      "\n",
      "\n",
      "{'Book ID': '11', 'Book Name': 'Data Scientists at Work', 'Availability': 'Yes', 'Check': 0, 'Loaned User': ' ', 'Last User': ' ', 'Status': ' ', 'Reserved To': ' '}\n",
      "\n",
      "\n",
      "{'Book ID': '12', 'Book Name': 'Slaughterhouse Five', 'Availability': 'Yes', 'Check': 0, 'Loaned User': ' ', 'Last User': ' ', 'Status': ' ', 'Reserved To': ' '}\n",
      "\n",
      "\n",
      "{'Book ID': '13', 'Book Name': 'Birth of a Theorem', 'Availability': 'Yes', 'Check': 0, 'Loaned User': ' ', 'Last User': ' ', 'Status': ' ', 'Reserved To': ' '}\n",
      "\n",
      "\n",
      "{'Book ID': '14', 'Book Name': 'Structure & Interpretation of Computer Programs', 'Availability': 'Yes', 'Check': 0, 'Loaned User': ' ', 'Last User': ' ', 'Status': ' ', 'Reserved To': ' '}\n",
      "\n",
      "\n",
      "{'Book ID': '15', 'Book Name': 'Age of Wrath, The', 'Availability': 'Yes', 'Check': 0, 'Loaned User': ' ', 'Last User': ' ', 'Status': ' ', 'Reserved To': ' '}\n",
      "\n",
      "\n",
      "{'Book ID': '16', 'Book Name': 'Trial, The', 'Availability': 'Yes', 'Check': 0, 'Loaned User': ' ', 'Last User': ' ', 'Status': ' ', 'Reserved To': ' '}\n",
      "\n",
      "\n",
      "{'Book ID': '17', 'Book Name': \"Statistical Decision Theory'\", 'Availability': 'Yes', 'Check': 0, 'Loaned User': ' ', 'Last User': ' ', 'Status': ' ', 'Reserved To': ' '}\n",
      "\n",
      "\n",
      "{'Book ID': '18', 'Book Name': 'Data Mining Handbook', 'Availability': 'Yes', 'Check': 0, 'Loaned User': ' ', 'Last User': ' ', 'Status': ' ', 'Reserved To': ' '}\n",
      "\n",
      "\n",
      "{'Book ID': '19', 'Book Name': 'New Machiavelli, The', 'Availability': 'Yes', 'Check': 0, 'Loaned User': ' ', 'Last User': ' ', 'Status': ' ', 'Reserved To': ' '}\n",
      "\n",
      "\n",
      "{'Book ID': '20', 'Book Name': 'Physics & Philosophy', 'Availability': 'Yes', 'Check': 0, 'Loaned User': ' ', 'Last User': ' ', 'Status': ' ', 'Reserved To': ' '}\n",
      "\n",
      "\n",
      "{'Book ID': '21', 'Book Name': 'Making Software', 'Availability': 'Yes', 'Check': 0, 'Loaned User': ' ', 'Last User': ' ', 'Status': ' ', 'Reserved To': ' '}\n",
      "\n",
      "\n",
      "{'Book ID': '22', 'Book Name': 'Analysis, Vol I', 'Availability': 'Yes', 'Check': 0, 'Loaned User': ' ', 'Last User': ' ', 'Status': ' ', 'Reserved To': ' '}\n",
      "\n",
      "\n",
      "{'Book ID': '23', 'Book Name': 'Machine Learning for Hackers', 'Availability': 'Yes', 'Check': 0, 'Loaned User': ' ', 'Last User': ' ', 'Status': ' ', 'Reserved To': ' '}\n",
      "\n",
      "\n",
      "{'Book ID': '24', 'Book Name': 'Signal and the Noise, The', 'Availability': 'Yes', 'Check': 0, 'Loaned User': ' ', 'Last User': ' ', 'Status': ' ', 'Reserved To': ' '}\n",
      "\n",
      "\n",
      "{'Book ID': '25', 'Book Name': 'Python for Data Analysis', 'Availability': 'Yes', 'Check': 0, 'Loaned User': ' ', 'Last User': ' ', 'Status': ' ', 'Reserved To': ' '}\n",
      "\n",
      "\n",
      "{'Book ID': '26', 'Book Name': 'Introduction to Algorithms', 'Availability': 'Yes', 'Check': 0, 'Loaned User': ' ', 'Last User': ' ', 'Status': ' ', 'Reserved To': ' '}\n",
      "\n",
      "\n",
      "{'Book ID': '27', 'Book Name': 'Beautiful and the Damned, The', 'Availability': 'Yes', 'Check': 0, 'Loaned User': ' ', 'Last User': ' ', 'Status': ' ', 'Reserved To': ' '}\n",
      "\n",
      "\n",
      "{'Book ID': '28', 'Book Name': 'Outsider, The', 'Availability': 'Yes', 'Check': 0, 'Loaned User': ' ', 'Last User': ' ', 'Status': ' ', 'Reserved To': ' '}\n",
      "\n",
      "\n",
      "{'Book ID': '29', 'Book Name': 'Complete Sherlock Holmes, The - Vol I', 'Availability': 'Yes', 'Check': 0, 'Loaned User': ' ', 'Last User': ' ', 'Status': ' ', 'Reserved To': ' '}\n",
      "\n",
      "\n",
      "{'Book ID': '30', 'Book Name': 'Complete Sherlock Holmes, The - Vol II', 'Availability': 'Yes', 'Check': 0, 'Loaned User': ' ', 'Last User': ' ', 'Status': ' ', 'Reserved To': ' '}\n",
      "\n",
      "\n",
      "{'Book ID': '31', 'Book Name': 'Wealth of Nations, The', 'Availability': 'Yes', 'Check': 0, 'Loaned User': ' ', 'Last User': ' ', 'Status': ' ', 'Reserved To': ' '}\n",
      "\n",
      "\n",
      "{'Book ID': '32', 'Book Name': 'Pillars of the Earth, The', 'Availability': 'Yes', 'Check': 0, 'Loaned User': ' ', 'Last User': ' ', 'Status': ' ', 'Reserved To': ' '}\n",
      "\n",
      "\n",
      "{'Book ID': '33', 'Book Name': 'Mein Kampf', 'Availability': 'Yes', 'Check': 0, 'Loaned User': ' ', 'Last User': ' ', 'Status': ' ', 'Reserved To': ' '}\n",
      "\n",
      "\n",
      "{'Book ID': '34', 'Book Name': 'Tao of Physics, The', 'Availability': 'Yes', 'Check': 0, 'Loaned User': ' ', 'Last User': ' ', 'Status': ' ', 'Reserved To': ' '}\n",
      "\n",
      "\n",
      "{'Book ID': '35', 'Book Name': \"Surely You're Joking Mr Feynman\", 'Availability': 'Yes', 'Check': 0, 'Loaned User': ' ', 'Last User': ' ', 'Status': ' ', 'Reserved To': ' '}\n",
      "\n",
      "\n",
      "{'Book ID': '36', 'Book Name': 'Farewell to Arms, A', 'Availability': 'Yes', 'Check': 0, 'Loaned User': ' ', 'Last User': ' ', 'Status': ' ', 'Reserved To': ' '}\n",
      "\n",
      "\n",
      "{'Book ID': '37', 'Book Name': 'Veteran, The', 'Availability': 'Yes', 'Check': 0, 'Loaned User': ' ', 'Last User': ' ', 'Status': ' ', 'Reserved To': ' '}\n",
      "\n",
      "\n",
      "{'Book ID': '38', 'Book Name': 'False Impressions', 'Availability': 'Yes', 'Check': 0, 'Loaned User': ' ', 'Last User': ' ', 'Status': ' ', 'Reserved To': ' '}\n",
      "\n",
      "\n",
      "{'Book ID': '39', 'Book Name': 'Last Lecture, The', 'Availability': 'Yes', 'Check': 0, 'Loaned User': ' ', 'Last User': ' ', 'Status': ' ', 'Reserved To': ' '}\n",
      "\n",
      "\n",
      "{'Book ID': '40', 'Book Name': 'Return of the Primitive', 'Availability': 'Yes', 'Check': 0, 'Loaned User': ' ', 'Last User': ' ', 'Status': ' ', 'Reserved To': ' '}\n",
      "\n",
      "\n",
      "{'Book ID': '41', 'Book Name': 'Jurassic Park', 'Availability': 'Yes', 'Check': 0, 'Loaned User': ' ', 'Last User': ' ', 'Status': ' ', 'Reserved To': ' '}\n",
      "\n",
      "\n",
      "{'Book ID': '42', 'Book Name': 'Russian Journal, A', 'Availability': 'Yes', 'Check': 0, 'Loaned User': ' ', 'Last User': ' ', 'Status': ' ', 'Reserved To': ' '}\n",
      "\n",
      "\n",
      "{'Book ID': '43', 'Book Name': 'Tales of Mystery and Imagination', 'Availability': 'Yes', 'Check': 0, 'Loaned User': ' ', 'Last User': ' ', 'Status': ' ', 'Reserved To': ' '}\n",
      "\n",
      "\n",
      "{'Book ID': '44', 'Book Name': 'Freakonomics', 'Availability': 'Yes', 'Check': 0, 'Loaned User': ' ', 'Last User': ' ', 'Status': ' ', 'Reserved To': ' '}\n",
      "\n",
      "\n",
      "{'Book ID': '45', 'Book Name': 'Hidden Connections, The', 'Availability': 'Yes', 'Check': 0, 'Loaned User': ' ', 'Last User': ' ', 'Status': ' ', 'Reserved To': ' '}\n",
      "\n",
      "\n",
      "{'Book ID': '46', 'Book Name': 'Story of Philosophy, The', 'Availability': 'Yes', 'Check': 0, 'Loaned User': ' ', 'Last User': ' ', 'Status': ' ', 'Reserved To': ' '}\n",
      "\n",
      "\n",
      "{'Book ID': '47', 'Book Name': 'Asami Asami', 'Availability': 'Yes', 'Check': 0, 'Loaned User': ' ', 'Last User': ' ', 'Status': ' ', 'Reserved To': ' '}\n",
      "\n",
      "\n",
      "{'Book ID': '48', 'Book Name': 'Journal of a Novel', 'Availability': 'Yes', 'Check': 0, 'Loaned User': ' ', 'Last User': ' ', 'Status': ' ', 'Reserved To': ' '}\n",
      "\n",
      "\n",
      "{'Book ID': '49', 'Book Name': 'Once There Was a War', 'Availability': 'Yes', 'Check': 0, 'Loaned User': ' ', 'Last User': ' ', 'Status': ' ', 'Reserved To': ' '}\n",
      "\n",
      "\n",
      "{'Book ID': '50', 'Book Name': 'Moon is Down, The', 'Availability': 'Yes', 'Check': 0, 'Loaned User': ' ', 'Last User': ' ', 'Status': ' ', 'Reserved To': ' '}\n",
      "\n",
      "\n",
      "{'Book ID': '51', 'Book Name': 'Brethren, The', 'Availability': 'Yes', 'Check': 0, 'Loaned User': ' ', 'Last User': ' ', 'Status': ' ', 'Reserved To': ' '}\n",
      "\n",
      "\n",
      "{'Book ID': '52', 'Book Name': 'In a Free State', 'Availability': 'Yes', 'Check': 0, 'Loaned User': ' ', 'Last User': ' ', 'Status': ' ', 'Reserved To': ' '}\n",
      "\n",
      "\n",
      "{'Book ID': '53', 'Book Name': 'Catch 22', 'Availability': 'Yes', 'Check': 0, 'Loaned User': ' ', 'Last User': ' ', 'Status': ' ', 'Reserved To': ' '}\n",
      "\n",
      "\n",
      "{'Book ID': '54', 'Book Name': 'Complete Mastermind, The', 'Availability': 'Yes', 'Check': 0, 'Loaned User': ' ', 'Last User': ' ', 'Status': ' ', 'Reserved To': ' '}\n",
      "\n",
      "\n",
      "{'Book ID': '55', 'Book Name': 'Dylan on Dylan', 'Availability': 'Yes', 'Check': 0, 'Loaned User': ' ', 'Last User': ' ', 'Status': ' ', 'Reserved To': ' '}\n",
      "\n",
      "\n",
      "{'Book ID': '56', 'Book Name': 'Soft Computing & Intelligent Systems', 'Availability': 'Yes', 'Check': 0, 'Loaned User': ' ', 'Last User': ' ', 'Status': ' ', 'Reserved To': ' '}\n",
      "\n",
      "\n",
      "{'Book ID': '57', 'Book Name': 'Textbook of Economic Theory', 'Availability': 'Yes', 'Check': 0, 'Loaned User': ' ', 'Last User': ' ', 'Status': ' ', 'Reserved To': ' '}\n",
      "\n",
      "\n",
      "{'Book ID': '58', 'Book Name': 'Econometric Analysis', 'Availability': 'Yes', 'Check': 0, 'Loaned User': ' ', 'Last User': ' ', 'Status': ' ', 'Reserved To': ' '}\n",
      "\n",
      "\n",
      "{'Book ID': '59', 'Book Name': 'Learning OpenCV', 'Availability': 'Yes', 'Check': 0, 'Loaned User': ' ', 'Last User': ' ', 'Status': ' ', 'Reserved To': ' '}\n",
      "\n",
      "\n",
      "{'Book ID': '60', 'Book Name': 'Data Structures Using C & C++', 'Availability': 'Yes', 'Check': 0, 'Loaned User': ' ', 'Last User': ' ', 'Status': ' ', 'Reserved To': ' '}\n",
      "\n",
      "\n",
      "{'Book ID': '61', 'Book Name': 'Computer Vision, A Modern Approach', 'Availability': 'Yes', 'Check': 0, 'Loaned User': ' ', 'Last User': ' ', 'Status': ' ', 'Reserved To': ' '}\n",
      "\n",
      "\n",
      "{'Book ID': '62', 'Book Name': 'Principles of Communication Systems', 'Availability': 'Yes', 'Check': 0, 'Loaned User': ' ', 'Last User': ' ', 'Status': ' ', 'Reserved To': ' '}\n",
      "\n",
      "\n",
      "{'Book ID': '63', 'Book Name': 'Let Us C', 'Availability': 'Yes', 'Check': 0, 'Loaned User': ' ', 'Last User': ' ', 'Status': ' ', 'Reserved To': ' '}\n",
      "\n",
      "\n",
      "{'Book ID': '64', 'Book Name': 'Amulet of Samarkand, The', 'Availability': 'Yes', 'Check': 0, 'Loaned User': ' ', 'Last User': ' ', 'Status': ' ', 'Reserved To': ' '}\n",
      "\n",
      "\n",
      "{'Book ID': '65', 'Book Name': 'Crime and Punishment', 'Availability': 'Yes', 'Check': 0, 'Loaned User': ' ', 'Last User': ' ', 'Status': ' ', 'Reserved To': ' '}\n",
      "\n",
      "\n",
      "{'Book ID': '66', 'Book Name': 'Angels & Demons', 'Availability': 'Yes', 'Check': 0, 'Loaned User': ' ', 'Last User': ' ', 'Status': ' ', 'Reserved To': ' '}\n",
      "\n",
      "\n",
      "{'Book ID': '67', 'Book Name': 'Argumentative Indian, The', 'Availability': 'Yes', 'Check': 0, 'Loaned User': ' ', 'Last User': ' ', 'Status': ' ', 'Reserved To': ' '}\n",
      "\n",
      "\n",
      "{'Book ID': '68', 'Book Name': 'Sea of Poppies', 'Availability': 'Yes', 'Check': 0, 'Loaned User': ' ', 'Last User': ' ', 'Status': ' ', 'Reserved To': ' '}\n",
      "\n",
      "\n",
      "{'Book ID': '69', 'Book Name': 'Idea of Justice, The', 'Availability': 'Yes', 'Check': 0, 'Loaned User': ' ', 'Last User': ' ', 'Status': ' ', 'Reserved To': ' '}\n",
      "\n",
      "\n",
      "{'Book ID': '70', 'Book Name': 'Raisin in the Sun, A', 'Availability': 'Yes', 'Check': 0, 'Loaned User': ' ', 'Last User': ' ', 'Status': ' ', 'Reserved To': ' '}\n",
      "\n",
      "\n",
      "{'Book ID': '71', 'Book Name': \"All the President's Men\", 'Availability': 'Yes', 'Check': 0, 'Loaned User': ' ', 'Last User': ' ', 'Status': ' ', 'Reserved To': ' '}\n",
      "\n",
      "\n",
      "{'Book ID': '72', 'Book Name': 'Prisoner of Birth, A', 'Availability': 'Yes', 'Check': 0, 'Loaned User': ' ', 'Last User': ' ', 'Status': ' ', 'Reserved To': ' '}\n",
      "\n",
      "\n",
      "{'Book ID': '73', 'Book Name': 'Scoop!', 'Availability': 'Yes', 'Check': 0, 'Loaned User': ' ', 'Last User': ' ', 'Status': ' ', 'Reserved To': ' '}\n",
      "\n",
      "\n",
      "{'Book ID': '74', 'Book Name': 'Ahe Manohar Tari', 'Availability': 'Yes', 'Check': 0, 'Loaned User': ' ', 'Last User': ' ', 'Status': ' ', 'Reserved To': ' '}\n",
      "\n",
      "\n",
      "{'Book ID': '75', 'Book Name': 'Last Mughal, The', 'Availability': 'Yes', 'Check': 0, 'Loaned User': ' ', 'Last User': ' ', 'Status': ' ', 'Reserved To': ' '}\n",
      "\n",
      "\n",
      "{'Book ID': '76', 'Book Name': 'Social Choice & Welfare, Vol 39 No. 1', 'Availability': 'Yes', 'Check': 0, 'Loaned User': ' ', 'Last User': ' ', 'Status': ' ', 'Reserved To': ' '}\n",
      "\n",
      "\n",
      "{'Book ID': '77', 'Book Name': 'Radiowaril Bhashane & Shrutika', 'Availability': 'Yes', 'Check': 0, 'Loaned User': ' ', 'Last User': ' ', 'Status': ' ', 'Reserved To': ' '}\n",
      "\n",
      "\n",
      "{'Book ID': '78', 'Book Name': 'Gun Gayin Awadi', 'Availability': 'Yes', 'Check': 0, 'Loaned User': ' ', 'Last User': ' ', 'Status': ' ', 'Reserved To': ' '}\n",
      "\n",
      "\n",
      "{'Book ID': '79', 'Book Name': 'Aghal Paghal', 'Availability': 'Yes', 'Check': 0, 'Loaned User': ' ', 'Last User': ' ', 'Status': ' ', 'Reserved To': ' '}\n",
      "\n",
      "\n",
      "{'Book ID': '80', 'Book Name': 'Maqta-e-Ghalib', 'Availability': 'Yes', 'Check': 0, 'Loaned User': ' ', 'Last User': ' ', 'Status': ' ', 'Reserved To': ' '}\n",
      "\n",
      "\n",
      "{'Book ID': '81', 'Book Name': 'Beyond Degrees', 'Availability': 'Yes', 'Check': 0, 'Loaned User': ' ', 'Last User': ' ', 'Status': ' ', 'Reserved To': ' '}\n",
      "\n",
      "\n",
      "{'Book ID': '82', 'Book Name': 'Manasa', 'Availability': 'Yes', 'Check': 0, 'Loaned User': ' ', 'Last User': ' ', 'Status': ' ', 'Reserved To': ' '}\n",
      "\n",
      "\n",
      "{'Book ID': '83', 'Book Name': 'India from Midnight to Milennium', 'Availability': 'Yes', 'Check': 0, 'Loaned User': ' ', 'Last User': ' ', 'Status': ' ', 'Reserved To': ' '}\n",
      "\n",
      "\n",
      "{'Book ID': '84', 'Book Name': \"World's Greatest Trials, The\", 'Availability': 'Yes', 'Check': 0, 'Loaned User': ' ', 'Last User': ' ', 'Status': ' ', 'Reserved To': ' '}\n",
      "\n",
      "\n",
      "{'Book ID': '85', 'Book Name': 'Great Indian Novel, The', 'Availability': 'Yes', 'Check': 0, 'Loaned User': ' ', 'Last User': ' ', 'Status': ' ', 'Reserved To': ' '}\n",
      "\n",
      "\n",
      "{'Book ID': '86', 'Book Name': 'O Jerusalem!', 'Availability': 'Yes', 'Check': 0, 'Loaned User': ' ', 'Last User': ' ', 'Status': ' ', 'Reserved To': ' '}\n",
      "\n",
      "\n",
      "{'Book ID': '87', 'Book Name': 'City of Joy, The', 'Availability': 'Yes', 'Check': 0, 'Loaned User': ' ', 'Last User': ' ', 'Status': ' ', 'Reserved To': ' '}\n",
      "\n",
      "\n",
      "{'Book ID': '88', 'Book Name': 'Freedom at Midnight', 'Availability': 'Yes', 'Check': 0, 'Loaned User': ' ', 'Last User': ' ', 'Status': ' ', 'Reserved To': ' '}\n",
      "\n",
      "\n",
      "{'Book ID': '89', 'Book Name': 'Winter of Our Discontent, The', 'Availability': 'Yes', 'Check': 0, 'Loaned User': ' ', 'Last User': ' ', 'Status': ' ', 'Reserved To': ' '}\n",
      "\n",
      "\n",
      "{'Book ID': '90', 'Book Name': 'On Education', 'Availability': 'Yes', 'Check': 0, 'Loaned User': ' ', 'Last User': ' ', 'Status': ' ', 'Reserved To': ' '}\n",
      "\n",
      "\n",
      "{'Book ID': '91', 'Book Name': 'Free Will', 'Availability': 'Yes', 'Check': 0, 'Loaned User': ' ', 'Last User': ' ', 'Status': ' ', 'Reserved To': ' '}\n",
      "\n",
      "\n",
      "{'Book ID': '92', 'Book Name': 'Bookless in Baghdad', 'Availability': 'Yes', 'Check': 0, 'Loaned User': ' ', 'Last User': ' ', 'Status': ' ', 'Reserved To': ' '}\n",
      "\n",
      "\n",
      "{'Book ID': '93', 'Book Name': 'Case of the Lame Canary, The', 'Availability': 'Yes', 'Check': 0, 'Loaned User': ' ', 'Last User': ' ', 'Status': ' ', 'Reserved To': ' '}\n",
      "\n",
      "\n",
      "{'Book ID': '94', 'Book Name': 'Theory of Everything, The', 'Availability': 'Yes', 'Check': 0, 'Loaned User': ' ', 'Last User': ' ', 'Status': ' ', 'Reserved To': ' '}\n",
      "\n",
      "\n",
      "{'Book ID': '95', 'Book Name': 'New Markets & Other Essays', 'Availability': 'Yes', 'Check': 0, 'Loaned User': ' ', 'Last User': ' ', 'Status': ' ', 'Reserved To': ' '}\n",
      "\n",
      "\n",
      "{'Book ID': '96', 'Book Name': 'Electric Universe', 'Availability': 'Yes', 'Check': 0, 'Loaned User': ' ', 'Last User': ' ', 'Status': ' ', 'Reserved To': ' '}\n",
      "\n",
      "\n",
      "{'Book ID': '97', 'Book Name': 'Hunchback of Notre Dame, The', 'Availability': 'Yes', 'Check': 0, 'Loaned User': ' ', 'Last User': ' ', 'Status': ' ', 'Reserved To': ' '}\n",
      "\n",
      "\n",
      "{'Book ID': '98', 'Book Name': 'Burning Bright', 'Availability': 'Yes', 'Check': 0, 'Loaned User': ' ', 'Last User': ' ', 'Status': ' ', 'Reserved To': ' '}\n",
      "\n",
      "\n",
      "{'Book ID': '99', 'Book Name': 'Age of Discontuinity, The', 'Availability': 'Yes', 'Check': 0, 'Loaned User': ' ', 'Last User': ' ', 'Status': ' ', 'Reserved To': ' '}\n",
      "\n",
      "\n",
      "{'Book ID': '100', 'Book Name': 'Doctor in the Nude', 'Availability': 'Yes', 'Check': 0, 'Loaned User': ' ', 'Last User': ' ', 'Status': ' ', 'Reserved To': ' '}\n",
      "\n",
      "\n",
      "{'Book ID': '101', 'Book Name': 'Down and Out in Paris & London', 'Availability': 'Yes', 'Check': 0, 'Loaned User': ' ', 'Last User': ' ', 'Status': ' ', 'Reserved To': ' '}\n",
      "\n",
      "\n",
      "{'Book ID': '102', 'Book Name': 'Identity & Violence', 'Availability': 'Yes', 'Check': 0, 'Loaned User': ' ', 'Last User': ' ', 'Status': ' ', 'Reserved To': ' '}\n",
      "\n",
      "\n",
      "{'Book ID': '103', 'Book Name': 'Beyond the Three Seas', 'Availability': 'Yes', 'Check': 0, 'Loaned User': ' ', 'Last User': ' ', 'Status': ' ', 'Reserved To': ' '}\n",
      "\n",
      "\n",
      "{'Book ID': '104', 'Book Name': \"World's Greatest Short Stories, The\", 'Availability': 'Yes', 'Check': 0, 'Loaned User': ' ', 'Last User': ' ', 'Status': ' ', 'Reserved To': ' '}\n",
      "\n",
      "\n",
      "{'Book ID': '105', 'Book Name': 'Talking Straight', 'Availability': 'Yes', 'Check': 0, 'Loaned User': ' ', 'Last User': ' ', 'Status': ' ', 'Reserved To': ' '}\n",
      "\n",
      "\n",
      "{'Book ID': '106', 'Book Name': \"Maugham's Collected Short Stories, Vol 3\", 'Availability': 'Yes', 'Check': 0, 'Loaned User': ' ', 'Last User': ' ', 'Status': ' ', 'Reserved To': ' '}\n",
      "\n",
      "\n",
      "{'Book ID': '107', 'Book Name': 'Phantom of Manhattan, The', 'Availability': 'Yes', 'Check': 0, 'Loaned User': ' ', 'Last User': ' ', 'Status': ' ', 'Reserved To': ' '}\n",
      "\n",
      "\n",
      "{'Book ID': '108', 'Book Name': 'Ashenden of The British Agent', 'Availability': 'Yes', 'Check': 0, 'Loaned User': ' ', 'Last User': ' ', 'Status': ' ', 'Reserved To': ' '}\n",
      "\n",
      "\n",
      "{'Book ID': '109', 'Book Name': 'Zen & The Art of Motorcycle Maintenance', 'Availability': 'Yes', 'Check': 0, 'Loaned User': ' ', 'Last User': ' ', 'Status': ' ', 'Reserved To': ' '}\n",
      "\n",
      "\n",
      "{'Book ID': '110', 'Book Name': 'Great War for Civilization, The', 'Availability': 'Yes', 'Check': 0, 'Loaned User': ' ', 'Last User': ' ', 'Status': ' ', 'Reserved To': ' '}\n",
      "\n",
      "\n",
      "{'Book ID': '111', 'Book Name': 'We the Living', 'Availability': 'Yes', 'Check': 0, 'Loaned User': ' ', 'Last User': ' ', 'Status': ' ', 'Reserved To': ' '}\n",
      "\n",
      "\n",
      "{'Book ID': '112', 'Book Name': 'Artist and the Mathematician, The', 'Availability': 'Yes', 'Check': 0, 'Loaned User': ' ', 'Last User': ' ', 'Status': ' ', 'Reserved To': ' '}\n",
      "\n",
      "\n",
      "{'Book ID': '113', 'Book Name': 'History of Western Philosophy', 'Availability': 'Yes', 'Check': 0, 'Loaned User': ' ', 'Last User': ' ', 'Status': ' ', 'Reserved To': ' '}\n",
      "\n",
      "\n",
      "{'Book ID': '114', 'Book Name': 'Selected Short Stories', 'Availability': 'Yes', 'Check': 0, 'Loaned User': ' ', 'Last User': ' ', 'Status': ' ', 'Reserved To': ' '}\n",
      "\n",
      "\n",
      "{'Book ID': '115', 'Book Name': 'Rationality & Freedom', 'Availability': 'Yes', 'Check': 0, 'Loaned User': ' ', 'Last User': ' ', 'Status': ' ', 'Reserved To': ' '}\n",
      "\n",
      "\n",
      "{'Book ID': '116', 'Book Name': 'Clash of Civilizations and Remaking of the World Order', 'Availability': 'Yes', 'Check': 0, 'Loaned User': ' ', 'Last User': ' ', 'Status': ' ', 'Reserved To': ' '}\n",
      "\n",
      "\n",
      "{'Book ID': '117', 'Book Name': 'Uncommon Wisdom', 'Availability': 'Yes', 'Check': 0, 'Loaned User': ' ', 'Last User': ' ', 'Status': ' ', 'Reserved To': ' '}\n",
      "\n",
      "\n",
      "{'Book ID': '118', 'Book Name': 'One', 'Availability': 'Yes', 'Check': 0, 'Loaned User': ' ', 'Last User': ' ', 'Status': ' ', 'Reserved To': ' '}\n",
      "\n",
      "\n",
      "{'Book ID': '119', 'Book Name': 'Karl Marx Biography', 'Availability': 'Yes', 'Check': 0, 'Loaned User': ' ', 'Last User': ' ', 'Status': ' ', 'Reserved To': ' '}\n",
      "\n",
      "\n",
      "{'Book ID': '120', 'Book Name': 'To Sir With Love', 'Availability': 'Yes', 'Check': 0, 'Loaned User': ' ', 'Last User': ' ', 'Status': ' ', 'Reserved To': ' '}\n",
      "\n",
      "\n"
     ]
    },
    {
     "name": "stdin",
     "output_type": "stream",
     "text": [
      "Please Write The Full Book Title Here To Sir With Love\n",
      "Scan Your Card Number 172\n"
     ]
    },
    {
     "name": "stdout",
     "output_type": "stream",
     "text": [
      "The book reserved to  Lucia Spencer\n"
     ]
    }
   ],
   "source": [
    " UserInterface()"
   ]
  },
  {
   "cell_type": "markdown",
   "metadata": {},
   "source": [
    "## 5 - Email Test"
   ]
  },
  {
   "cell_type": "markdown",
   "metadata": {},
   "source": [
    "##### I have done 2 test for E mail Test Notification\n"
   ]
  },
  {
   "cell_type": "code",
   "execution_count": 48,
   "metadata": {},
   "outputs": [
    {
     "name": "stdout",
     "output_type": "stream",
     "text": [
      "-------------------------------------\n",
      "Welcome To The Keele Library System\n",
      "\n",
      "Please write the number of the choice below\n",
      "\n",
      "1 - Borrow Book \n",
      "\n",
      "2 - Return Book \n",
      "\n",
      "3 - Reserve Book \n",
      "\n",
      "4 - Apply For Membership Card \n",
      "\n",
      "5 - Join E-Mail Notification \n",
      "\n",
      "6 - Exit \n",
      "\n"
     ]
    },
    {
     "name": "stdin",
     "output_type": "stream",
     "text": [
      "Your Choice 5\n"
     ]
    },
    {
     "name": "stdout",
     "output_type": "stream",
     "text": [
      "E-Mail List\n",
      "{'Book ID': '1', 'Book Name': 'Fundamentals of Wavelets', 'Availability': 'No', 'Check': 1, 'Loaned User': 'Charlie Roberts', 'Last User': ' ', 'Status': ' ', 'Reserved To': ' '}\n",
      "{'Book ID': '5', 'Book Name': 'Orientalism', 'Availability': 'No', 'Check': 1, 'Loaned User': 'Adelaide Cunningham', 'Last User': ' ', 'Status': ' ', 'Reserved To': ' '}\n",
      "{'Book ID': '7', 'Book Name': 'Integration of the Indian States', 'Availability': 'No', 'Check': 1, 'Loaned User': 'Eric Cooper', 'Last User': ' ', 'Status': ' ', 'Reserved To': ' '}\n"
     ]
    },
    {
     "name": "stdin",
     "output_type": "stream",
     "text": [
      "Please Enter Your Card ID 153\n",
      "Please Enter The Book Title Orientalism\n"
     ]
    },
    {
     "name": "stdout",
     "output_type": "stream",
     "text": [
      "You'll be inform when the book is ready. We will send an e-mail to m.anderson@randatmail.com\n"
     ]
    }
   ],
   "source": [
    " UserInterface()"
   ]
  },
  {
   "cell_type": "code",
   "execution_count": 50,
   "metadata": {},
   "outputs": [
    {
     "name": "stdout",
     "output_type": "stream",
     "text": [
      "-------------------------------------\n",
      "Welcome To The Keele Library System\n",
      "\n",
      "Please write the number of the choice below\n",
      "\n",
      "1 - Borrow Book \n",
      "\n",
      "2 - Return Book \n",
      "\n",
      "3 - Reserve Book \n",
      "\n",
      "4 - Apply For Membership Card \n",
      "\n",
      "5 - Join E-Mail Notification \n",
      "\n",
      "6 - Exit \n",
      "\n"
     ]
    },
    {
     "name": "stdin",
     "output_type": "stream",
     "text": [
      "Your Choice 5\n"
     ]
    },
    {
     "name": "stdout",
     "output_type": "stream",
     "text": [
      "E-Mail List\n",
      "{'Book ID': '1', 'Book Name': 'Fundamentals of Wavelets', 'Availability': 'No', 'Check': 1, 'Loaned User': 'Charlie Roberts', 'Last User': ' ', 'Status': ' ', 'Reserved To': ' '}\n",
      "{'Book ID': '5', 'Book Name': 'Orientalism', 'Availability': 'No', 'Check': 1, 'Loaned User': 'Adelaide Cunningham', 'Last User': ' ', 'Status': ' ', 'Reserved To': ' '}\n",
      "{'Book ID': '7', 'Book Name': 'Integration of the Indian States', 'Availability': 'No', 'Check': 1, 'Loaned User': 'Eric Cooper', 'Last User': ' ', 'Status': ' ', 'Reserved To': ' '}\n"
     ]
    },
    {
     "name": "stdin",
     "output_type": "stream",
     "text": [
      "Please Enter Your Card ID 143\n",
      "Please Enter The Book Title Integration of the Indian States\n"
     ]
    },
    {
     "name": "stdout",
     "output_type": "stream",
     "text": [
      "You'll be inform when the book is ready. We will send an e-mail to n.phillips@randatmail.com\n"
     ]
    }
   ],
   "source": []
  },
  {
   "cell_type": "code",
   "execution_count": null,
   "metadata": {},
   "outputs": [],
   "source": []
  }
 ],
 "metadata": {
  "kernelspec": {
   "display_name": "Python 3",
   "language": "python",
   "name": "python3"
  },
  "language_info": {
   "codemirror_mode": {
    "name": "ipython",
    "version": 3
   },
   "file_extension": ".py",
   "mimetype": "text/x-python",
   "name": "python",
   "nbconvert_exporter": "python",
   "pygments_lexer": "ipython3",
   "version": "3.7.7"
  }
 },
 "nbformat": 4,
 "nbformat_minor": 4
}
